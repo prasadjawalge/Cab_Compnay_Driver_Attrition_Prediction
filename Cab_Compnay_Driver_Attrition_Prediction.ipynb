{
 "cells": [
  {
   "cell_type": "markdown",
   "metadata": {},
   "source": [
    "### About Cab Comapny (Masked)"
   ]
  },
  {
   "cell_type": "markdown",
   "metadata": {},
   "source": [
    "- Cab Company is a prominent mobility platform in India and one of the largest ride-hailing companies globally. It operates in more than 250 cities, serving customers in India, Australia, New Zealand, and the UK. \n",
    "\n",
    "- Through the Cab Company app, customers can easily access a diverse fleet of vehicles, including bikes, auto-rickshaws, metered taxis, and cabs. This wide array of options offers convenience and transparency to hundreds of millions of consumers.\n",
    "\n",
    "- Additionally, Cab Company's platform has empowered over 1.5 million driver-partners, providing them with opportunities to earn and serve the transportation needs of countless people."
   ]
  },
  {
   "cell_type": "markdown",
   "metadata": {},
   "source": [
    "### Problem Statement"
   ]
  },
  {
   "cell_type": "markdown",
   "metadata": {},
   "source": [
    "- Recruiting and retaining drivers is seen as a significant challenge for Cab Company. Churn among drivers is high, and it’s very easy for drivers to stop working for the service on the fly or jump to competitors depending on the rates.\n",
    "\n",
    "- As the company gets bigger, the high churn could become a more substantial problem. To find new drivers, Cab Company is casting a wide net, including people who don’t have cars for jobs. However, this acquisition is really costly. Losing drivers frequently impacts the morale of the organization, and acquiring new drivers is more expensive than retaining existing ones."
   ]
  },
  {
   "cell_type": "code",
   "execution_count": 1,
   "metadata": {
    "executionInfo": {
     "elapsed": 1918,
     "status": "ok",
     "timestamp": 1690368009607,
     "user": {
      "displayName": "Digamber Jawalge",
      "userId": "03999219238660810969"
     },
     "user_tz": -330
    },
    "id": "WfKNI1VL8hU2"
   },
   "outputs": [],
   "source": [
    "# Importing libraries\n",
    "import numpy as np\n",
    "import pandas as pd\n",
    "import matplotlib.pyplot as plt\n",
    "import seaborn as sns"
   ]
  },
  {
   "cell_type": "code",
   "execution_count": 2,
   "metadata": {
    "colab": {
     "base_uri": "https://localhost:8080/",
     "height": 755
    },
    "executionInfo": {
     "elapsed": 22,
     "status": "ok",
     "timestamp": 1690368009607,
     "user": {
      "displayName": "Digamber Jawalge",
      "userId": "03999219238660810969"
     },
     "user_tz": -330
    },
    "id": "vO2gWmxY-CPs",
    "outputId": "cde622b1-0348-4aa3-ba7e-caca3bcc0a67"
   },
   "outputs": [
    {
     "data": {
      "text/html": [
       "<div>\n",
       "<style scoped>\n",
       "    .dataframe tbody tr th:only-of-type {\n",
       "        vertical-align: middle;\n",
       "    }\n",
       "\n",
       "    .dataframe tbody tr th {\n",
       "        vertical-align: top;\n",
       "    }\n",
       "\n",
       "    .dataframe thead th {\n",
       "        text-align: right;\n",
       "    }\n",
       "</style>\n",
       "<table border=\"1\" class=\"dataframe\">\n",
       "  <thead>\n",
       "    <tr style=\"text-align: right;\">\n",
       "      <th></th>\n",
       "      <th>Unnamed: 0</th>\n",
       "      <th>MMM-YY</th>\n",
       "      <th>Driver_ID</th>\n",
       "      <th>Age</th>\n",
       "      <th>Gender</th>\n",
       "      <th>City</th>\n",
       "      <th>Education_Level</th>\n",
       "      <th>Income</th>\n",
       "      <th>Dateofjoining</th>\n",
       "      <th>LastWorkingDate</th>\n",
       "      <th>Joining Designation</th>\n",
       "      <th>Grade</th>\n",
       "      <th>Total Business Value</th>\n",
       "      <th>Quarterly Rating</th>\n",
       "    </tr>\n",
       "  </thead>\n",
       "  <tbody>\n",
       "    <tr>\n",
       "      <th>0</th>\n",
       "      <td>0</td>\n",
       "      <td>01/01/19</td>\n",
       "      <td>1</td>\n",
       "      <td>28.0</td>\n",
       "      <td>0.0</td>\n",
       "      <td>C23</td>\n",
       "      <td>2</td>\n",
       "      <td>57387</td>\n",
       "      <td>24/12/18</td>\n",
       "      <td>NaN</td>\n",
       "      <td>1</td>\n",
       "      <td>1</td>\n",
       "      <td>2381060</td>\n",
       "      <td>2</td>\n",
       "    </tr>\n",
       "    <tr>\n",
       "      <th>1</th>\n",
       "      <td>1</td>\n",
       "      <td>02/01/19</td>\n",
       "      <td>1</td>\n",
       "      <td>28.0</td>\n",
       "      <td>0.0</td>\n",
       "      <td>C23</td>\n",
       "      <td>2</td>\n",
       "      <td>57387</td>\n",
       "      <td>24/12/18</td>\n",
       "      <td>NaN</td>\n",
       "      <td>1</td>\n",
       "      <td>1</td>\n",
       "      <td>-665480</td>\n",
       "      <td>2</td>\n",
       "    </tr>\n",
       "    <tr>\n",
       "      <th>2</th>\n",
       "      <td>2</td>\n",
       "      <td>03/01/19</td>\n",
       "      <td>1</td>\n",
       "      <td>28.0</td>\n",
       "      <td>0.0</td>\n",
       "      <td>C23</td>\n",
       "      <td>2</td>\n",
       "      <td>57387</td>\n",
       "      <td>24/12/18</td>\n",
       "      <td>03/11/19</td>\n",
       "      <td>1</td>\n",
       "      <td>1</td>\n",
       "      <td>0</td>\n",
       "      <td>2</td>\n",
       "    </tr>\n",
       "    <tr>\n",
       "      <th>3</th>\n",
       "      <td>3</td>\n",
       "      <td>11/01/20</td>\n",
       "      <td>2</td>\n",
       "      <td>31.0</td>\n",
       "      <td>0.0</td>\n",
       "      <td>C7</td>\n",
       "      <td>2</td>\n",
       "      <td>67016</td>\n",
       "      <td>11/06/20</td>\n",
       "      <td>NaN</td>\n",
       "      <td>2</td>\n",
       "      <td>2</td>\n",
       "      <td>0</td>\n",
       "      <td>1</td>\n",
       "    </tr>\n",
       "    <tr>\n",
       "      <th>4</th>\n",
       "      <td>4</td>\n",
       "      <td>12/01/20</td>\n",
       "      <td>2</td>\n",
       "      <td>31.0</td>\n",
       "      <td>0.0</td>\n",
       "      <td>C7</td>\n",
       "      <td>2</td>\n",
       "      <td>67016</td>\n",
       "      <td>11/06/20</td>\n",
       "      <td>NaN</td>\n",
       "      <td>2</td>\n",
       "      <td>2</td>\n",
       "      <td>0</td>\n",
       "      <td>1</td>\n",
       "    </tr>\n",
       "    <tr>\n",
       "      <th>5</th>\n",
       "      <td>5</td>\n",
       "      <td>12/01/19</td>\n",
       "      <td>4</td>\n",
       "      <td>43.0</td>\n",
       "      <td>0.0</td>\n",
       "      <td>C13</td>\n",
       "      <td>2</td>\n",
       "      <td>65603</td>\n",
       "      <td>12/07/19</td>\n",
       "      <td>NaN</td>\n",
       "      <td>2</td>\n",
       "      <td>2</td>\n",
       "      <td>0</td>\n",
       "      <td>1</td>\n",
       "    </tr>\n",
       "    <tr>\n",
       "      <th>6</th>\n",
       "      <td>6</td>\n",
       "      <td>01/01/20</td>\n",
       "      <td>4</td>\n",
       "      <td>43.0</td>\n",
       "      <td>0.0</td>\n",
       "      <td>C13</td>\n",
       "      <td>2</td>\n",
       "      <td>65603</td>\n",
       "      <td>12/07/19</td>\n",
       "      <td>NaN</td>\n",
       "      <td>2</td>\n",
       "      <td>2</td>\n",
       "      <td>0</td>\n",
       "      <td>1</td>\n",
       "    </tr>\n",
       "    <tr>\n",
       "      <th>7</th>\n",
       "      <td>7</td>\n",
       "      <td>02/01/20</td>\n",
       "      <td>4</td>\n",
       "      <td>43.0</td>\n",
       "      <td>0.0</td>\n",
       "      <td>C13</td>\n",
       "      <td>2</td>\n",
       "      <td>65603</td>\n",
       "      <td>12/07/19</td>\n",
       "      <td>NaN</td>\n",
       "      <td>2</td>\n",
       "      <td>2</td>\n",
       "      <td>0</td>\n",
       "      <td>1</td>\n",
       "    </tr>\n",
       "    <tr>\n",
       "      <th>8</th>\n",
       "      <td>8</td>\n",
       "      <td>03/01/20</td>\n",
       "      <td>4</td>\n",
       "      <td>43.0</td>\n",
       "      <td>0.0</td>\n",
       "      <td>C13</td>\n",
       "      <td>2</td>\n",
       "      <td>65603</td>\n",
       "      <td>12/07/19</td>\n",
       "      <td>NaN</td>\n",
       "      <td>2</td>\n",
       "      <td>2</td>\n",
       "      <td>350000</td>\n",
       "      <td>1</td>\n",
       "    </tr>\n",
       "    <tr>\n",
       "      <th>9</th>\n",
       "      <td>9</td>\n",
       "      <td>04/01/20</td>\n",
       "      <td>4</td>\n",
       "      <td>43.0</td>\n",
       "      <td>0.0</td>\n",
       "      <td>C13</td>\n",
       "      <td>2</td>\n",
       "      <td>65603</td>\n",
       "      <td>12/07/19</td>\n",
       "      <td>27/04/20</td>\n",
       "      <td>2</td>\n",
       "      <td>2</td>\n",
       "      <td>0</td>\n",
       "      <td>1</td>\n",
       "    </tr>\n",
       "    <tr>\n",
       "      <th>10</th>\n",
       "      <td>10</td>\n",
       "      <td>01/01/19</td>\n",
       "      <td>5</td>\n",
       "      <td>29.0</td>\n",
       "      <td>0.0</td>\n",
       "      <td>C9</td>\n",
       "      <td>0</td>\n",
       "      <td>46368</td>\n",
       "      <td>01/09/19</td>\n",
       "      <td>NaN</td>\n",
       "      <td>1</td>\n",
       "      <td>1</td>\n",
       "      <td>0</td>\n",
       "      <td>1</td>\n",
       "    </tr>\n",
       "    <tr>\n",
       "      <th>11</th>\n",
       "      <td>11</td>\n",
       "      <td>02/01/19</td>\n",
       "      <td>5</td>\n",
       "      <td>29.0</td>\n",
       "      <td>0.0</td>\n",
       "      <td>C9</td>\n",
       "      <td>0</td>\n",
       "      <td>46368</td>\n",
       "      <td>01/09/19</td>\n",
       "      <td>NaN</td>\n",
       "      <td>1</td>\n",
       "      <td>1</td>\n",
       "      <td>120360</td>\n",
       "      <td>1</td>\n",
       "    </tr>\n",
       "    <tr>\n",
       "      <th>12</th>\n",
       "      <td>12</td>\n",
       "      <td>03/01/19</td>\n",
       "      <td>5</td>\n",
       "      <td>29.0</td>\n",
       "      <td>0.0</td>\n",
       "      <td>C9</td>\n",
       "      <td>0</td>\n",
       "      <td>46368</td>\n",
       "      <td>01/09/19</td>\n",
       "      <td>03/07/19</td>\n",
       "      <td>1</td>\n",
       "      <td>1</td>\n",
       "      <td>0</td>\n",
       "      <td>1</td>\n",
       "    </tr>\n",
       "    <tr>\n",
       "      <th>13</th>\n",
       "      <td>13</td>\n",
       "      <td>08/01/20</td>\n",
       "      <td>6</td>\n",
       "      <td>31.0</td>\n",
       "      <td>1.0</td>\n",
       "      <td>C11</td>\n",
       "      <td>1</td>\n",
       "      <td>78728</td>\n",
       "      <td>31/07/20</td>\n",
       "      <td>NaN</td>\n",
       "      <td>3</td>\n",
       "      <td>3</td>\n",
       "      <td>0</td>\n",
       "      <td>1</td>\n",
       "    </tr>\n",
       "    <tr>\n",
       "      <th>14</th>\n",
       "      <td>14</td>\n",
       "      <td>09/01/20</td>\n",
       "      <td>6</td>\n",
       "      <td>31.0</td>\n",
       "      <td>1.0</td>\n",
       "      <td>C11</td>\n",
       "      <td>1</td>\n",
       "      <td>78728</td>\n",
       "      <td>31/07/20</td>\n",
       "      <td>NaN</td>\n",
       "      <td>3</td>\n",
       "      <td>3</td>\n",
       "      <td>0</td>\n",
       "      <td>1</td>\n",
       "    </tr>\n",
       "    <tr>\n",
       "      <th>15</th>\n",
       "      <td>15</td>\n",
       "      <td>10/01/20</td>\n",
       "      <td>6</td>\n",
       "      <td>31.0</td>\n",
       "      <td>1.0</td>\n",
       "      <td>C11</td>\n",
       "      <td>1</td>\n",
       "      <td>78728</td>\n",
       "      <td>31/07/20</td>\n",
       "      <td>NaN</td>\n",
       "      <td>3</td>\n",
       "      <td>3</td>\n",
       "      <td>0</td>\n",
       "      <td>2</td>\n",
       "    </tr>\n",
       "    <tr>\n",
       "      <th>16</th>\n",
       "      <td>16</td>\n",
       "      <td>11/01/20</td>\n",
       "      <td>6</td>\n",
       "      <td>31.0</td>\n",
       "      <td>1.0</td>\n",
       "      <td>C11</td>\n",
       "      <td>1</td>\n",
       "      <td>78728</td>\n",
       "      <td>31/07/20</td>\n",
       "      <td>NaN</td>\n",
       "      <td>3</td>\n",
       "      <td>3</td>\n",
       "      <td>1265000</td>\n",
       "      <td>2</td>\n",
       "    </tr>\n",
       "    <tr>\n",
       "      <th>17</th>\n",
       "      <td>17</td>\n",
       "      <td>12/01/20</td>\n",
       "      <td>6</td>\n",
       "      <td>31.0</td>\n",
       "      <td>1.0</td>\n",
       "      <td>C11</td>\n",
       "      <td>1</td>\n",
       "      <td>78728</td>\n",
       "      <td>31/07/20</td>\n",
       "      <td>NaN</td>\n",
       "      <td>3</td>\n",
       "      <td>3</td>\n",
       "      <td>0</td>\n",
       "      <td>2</td>\n",
       "    </tr>\n",
       "    <tr>\n",
       "      <th>18</th>\n",
       "      <td>18</td>\n",
       "      <td>09/01/20</td>\n",
       "      <td>8</td>\n",
       "      <td>34.0</td>\n",
       "      <td>0.0</td>\n",
       "      <td>C2</td>\n",
       "      <td>0</td>\n",
       "      <td>70656</td>\n",
       "      <td>19/09/20</td>\n",
       "      <td>NaN</td>\n",
       "      <td>3</td>\n",
       "      <td>3</td>\n",
       "      <td>0</td>\n",
       "      <td>1</td>\n",
       "    </tr>\n",
       "    <tr>\n",
       "      <th>19</th>\n",
       "      <td>19</td>\n",
       "      <td>10/01/20</td>\n",
       "      <td>8</td>\n",
       "      <td>34.0</td>\n",
       "      <td>0.0</td>\n",
       "      <td>C2</td>\n",
       "      <td>0</td>\n",
       "      <td>70656</td>\n",
       "      <td>19/09/20</td>\n",
       "      <td>NaN</td>\n",
       "      <td>3</td>\n",
       "      <td>3</td>\n",
       "      <td>0</td>\n",
       "      <td>1</td>\n",
       "    </tr>\n",
       "  </tbody>\n",
       "</table>\n",
       "</div>"
      ],
      "text/plain": [
       "    Unnamed: 0    MMM-YY  Driver_ID   Age  Gender City  Education_Level  \\\n",
       "0            0  01/01/19          1  28.0     0.0  C23                2   \n",
       "1            1  02/01/19          1  28.0     0.0  C23                2   \n",
       "2            2  03/01/19          1  28.0     0.0  C23                2   \n",
       "3            3  11/01/20          2  31.0     0.0   C7                2   \n",
       "4            4  12/01/20          2  31.0     0.0   C7                2   \n",
       "5            5  12/01/19          4  43.0     0.0  C13                2   \n",
       "6            6  01/01/20          4  43.0     0.0  C13                2   \n",
       "7            7  02/01/20          4  43.0     0.0  C13                2   \n",
       "8            8  03/01/20          4  43.0     0.0  C13                2   \n",
       "9            9  04/01/20          4  43.0     0.0  C13                2   \n",
       "10          10  01/01/19          5  29.0     0.0   C9                0   \n",
       "11          11  02/01/19          5  29.0     0.0   C9                0   \n",
       "12          12  03/01/19          5  29.0     0.0   C9                0   \n",
       "13          13  08/01/20          6  31.0     1.0  C11                1   \n",
       "14          14  09/01/20          6  31.0     1.0  C11                1   \n",
       "15          15  10/01/20          6  31.0     1.0  C11                1   \n",
       "16          16  11/01/20          6  31.0     1.0  C11                1   \n",
       "17          17  12/01/20          6  31.0     1.0  C11                1   \n",
       "18          18  09/01/20          8  34.0     0.0   C2                0   \n",
       "19          19  10/01/20          8  34.0     0.0   C2                0   \n",
       "\n",
       "    Income Dateofjoining LastWorkingDate  Joining Designation  Grade  \\\n",
       "0    57387      24/12/18             NaN                    1      1   \n",
       "1    57387      24/12/18             NaN                    1      1   \n",
       "2    57387      24/12/18        03/11/19                    1      1   \n",
       "3    67016      11/06/20             NaN                    2      2   \n",
       "4    67016      11/06/20             NaN                    2      2   \n",
       "5    65603      12/07/19             NaN                    2      2   \n",
       "6    65603      12/07/19             NaN                    2      2   \n",
       "7    65603      12/07/19             NaN                    2      2   \n",
       "8    65603      12/07/19             NaN                    2      2   \n",
       "9    65603      12/07/19        27/04/20                    2      2   \n",
       "10   46368      01/09/19             NaN                    1      1   \n",
       "11   46368      01/09/19             NaN                    1      1   \n",
       "12   46368      01/09/19        03/07/19                    1      1   \n",
       "13   78728      31/07/20             NaN                    3      3   \n",
       "14   78728      31/07/20             NaN                    3      3   \n",
       "15   78728      31/07/20             NaN                    3      3   \n",
       "16   78728      31/07/20             NaN                    3      3   \n",
       "17   78728      31/07/20             NaN                    3      3   \n",
       "18   70656      19/09/20             NaN                    3      3   \n",
       "19   70656      19/09/20             NaN                    3      3   \n",
       "\n",
       "    Total Business Value  Quarterly Rating  \n",
       "0                2381060                 2  \n",
       "1                -665480                 2  \n",
       "2                      0                 2  \n",
       "3                      0                 1  \n",
       "4                      0                 1  \n",
       "5                      0                 1  \n",
       "6                      0                 1  \n",
       "7                      0                 1  \n",
       "8                 350000                 1  \n",
       "9                      0                 1  \n",
       "10                     0                 1  \n",
       "11                120360                 1  \n",
       "12                     0                 1  \n",
       "13                     0                 1  \n",
       "14                     0                 1  \n",
       "15                     0                 2  \n",
       "16               1265000                 2  \n",
       "17                     0                 2  \n",
       "18                     0                 1  \n",
       "19                     0                 1  "
      ]
     },
     "execution_count": 2,
     "metadata": {},
     "output_type": "execute_result"
    }
   ],
   "source": [
    "# Importing and reading the dataset\n",
    "df = pd.read_csv('cab_company.csv')\n",
    "df.head(20)"
   ]
  },
  {
   "cell_type": "markdown",
   "metadata": {
    "id": "GBBwqNyW-nxi"
   },
   "source": [
    "### Basic data exploration"
   ]
  },
  {
   "cell_type": "code",
   "execution_count": 3,
   "metadata": {
    "colab": {
     "base_uri": "https://localhost:8080/"
    },
    "executionInfo": {
     "elapsed": 21,
     "status": "ok",
     "timestamp": 1690368009608,
     "user": {
      "displayName": "Digamber Jawalge",
      "userId": "03999219238660810969"
     },
     "user_tz": -330
    },
    "id": "HHLu0Ns3-I_x",
    "outputId": "0f9e60ab-e012-468e-f363-ccafa5c6edee"
   },
   "outputs": [
    {
     "data": {
      "text/plain": [
       "(19104, 14)"
      ]
     },
     "execution_count": 3,
     "metadata": {},
     "output_type": "execute_result"
    }
   ],
   "source": [
    "# Structure of data\n",
    "df.shape"
   ]
  },
  {
   "cell_type": "code",
   "execution_count": 4,
   "metadata": {
    "colab": {
     "base_uri": "https://localhost:8080/"
    },
    "executionInfo": {
     "elapsed": 17,
     "status": "ok",
     "timestamp": 1690368009608,
     "user": {
      "displayName": "Digamber Jawalge",
      "userId": "03999219238660810969"
     },
     "user_tz": -330
    },
    "id": "aP39X4CL-t0r",
    "outputId": "86d60860-d4ac-44a2-cc79-7dcd6efcd24c"
   },
   "outputs": [
    {
     "data": {
      "text/plain": [
       "Index(['Unnamed: 0', 'MMM-YY', 'Driver_ID', 'Age', 'Gender', 'City',\n",
       "       'Education_Level', 'Income', 'Dateofjoining', 'LastWorkingDate',\n",
       "       'Joining Designation', 'Grade', 'Total Business Value',\n",
       "       'Quarterly Rating'],\n",
       "      dtype='object')"
      ]
     },
     "execution_count": 4,
     "metadata": {},
     "output_type": "execute_result"
    }
   ],
   "source": [
    "# Columns of data\n",
    "df.columns"
   ]
  },
  {
   "cell_type": "code",
   "execution_count": 5,
   "metadata": {
    "colab": {
     "base_uri": "https://localhost:8080/"
    },
    "executionInfo": {
     "elapsed": 15,
     "status": "ok",
     "timestamp": 1690368009608,
     "user": {
      "displayName": "Digamber Jawalge",
      "userId": "03999219238660810969"
     },
     "user_tz": -330
    },
    "id": "DLdAoRM--z55",
    "outputId": "7cdeff5e-2451-4dae-e5fe-80dc4201bf6a"
   },
   "outputs": [
    {
     "name": "stdout",
     "output_type": "stream",
     "text": [
      "<class 'pandas.core.frame.DataFrame'>\n",
      "RangeIndex: 19104 entries, 0 to 19103\n",
      "Data columns (total 14 columns):\n",
      " #   Column                Non-Null Count  Dtype  \n",
      "---  ------                --------------  -----  \n",
      " 0   Unnamed: 0            19104 non-null  int64  \n",
      " 1   MMM-YY                19104 non-null  object \n",
      " 2   Driver_ID             19104 non-null  int64  \n",
      " 3   Age                   19043 non-null  float64\n",
      " 4   Gender                19052 non-null  float64\n",
      " 5   City                  19104 non-null  object \n",
      " 6   Education_Level       19104 non-null  int64  \n",
      " 7   Income                19104 non-null  int64  \n",
      " 8   Dateofjoining         19104 non-null  object \n",
      " 9   LastWorkingDate       1616 non-null   object \n",
      " 10  Joining Designation   19104 non-null  int64  \n",
      " 11  Grade                 19104 non-null  int64  \n",
      " 12  Total Business Value  19104 non-null  int64  \n",
      " 13  Quarterly Rating      19104 non-null  int64  \n",
      "dtypes: float64(2), int64(8), object(4)\n",
      "memory usage: 2.0+ MB\n"
     ]
    }
   ],
   "source": [
    "# Characteristics of variables\n",
    "df.info()"
   ]
  },
  {
   "cell_type": "code",
   "execution_count": 6,
   "metadata": {
    "colab": {
     "base_uri": "https://localhost:8080/"
    },
    "executionInfo": {
     "elapsed": 14,
     "status": "ok",
     "timestamp": 1690368009609,
     "user": {
      "displayName": "Digamber Jawalge",
      "userId": "03999219238660810969"
     },
     "user_tz": -330
    },
    "id": "LpbPrXIY-9gf",
    "outputId": "da865270-e01d-4a1c-c0ab-f0e620109c75"
   },
   "outputs": [
    {
     "data": {
      "text/plain": [
       "Unnamed: 0              19104\n",
       "MMM-YY                     24\n",
       "Driver_ID                2381\n",
       "Age                        36\n",
       "Gender                      2\n",
       "City                       29\n",
       "Education_Level             3\n",
       "Income                   2383\n",
       "Dateofjoining             869\n",
       "LastWorkingDate           493\n",
       "Joining Designation         5\n",
       "Grade                       5\n",
       "Total Business Value    10181\n",
       "Quarterly Rating            4\n",
       "dtype: int64"
      ]
     },
     "execution_count": 6,
     "metadata": {},
     "output_type": "execute_result"
    }
   ],
   "source": [
    "# Unique attributes for each columns\n",
    "df.nunique()"
   ]
  },
  {
   "cell_type": "code",
   "execution_count": 7,
   "metadata": {
    "colab": {
     "base_uri": "https://localhost:8080/",
     "height": 362
    },
    "executionInfo": {
     "elapsed": 13,
     "status": "ok",
     "timestamp": 1690368009609,
     "user": {
      "displayName": "Digamber Jawalge",
      "userId": "03999219238660810969"
     },
     "user_tz": -330
    },
    "id": "rfUXI06h_Jbr",
    "outputId": "a39f13ab-5383-4cbd-88a9-1960e29dfd82"
   },
   "outputs": [
    {
     "data": {
      "text/html": [
       "<div>\n",
       "<style scoped>\n",
       "    .dataframe tbody tr th:only-of-type {\n",
       "        vertical-align: middle;\n",
       "    }\n",
       "\n",
       "    .dataframe tbody tr th {\n",
       "        vertical-align: top;\n",
       "    }\n",
       "\n",
       "    .dataframe thead th {\n",
       "        text-align: right;\n",
       "    }\n",
       "</style>\n",
       "<table border=\"1\" class=\"dataframe\">\n",
       "  <thead>\n",
       "    <tr style=\"text-align: right;\">\n",
       "      <th></th>\n",
       "      <th>Unnamed: 0</th>\n",
       "      <th>Driver_ID</th>\n",
       "      <th>Age</th>\n",
       "      <th>Gender</th>\n",
       "      <th>Education_Level</th>\n",
       "      <th>Income</th>\n",
       "      <th>Joining Designation</th>\n",
       "      <th>Grade</th>\n",
       "      <th>Total Business Value</th>\n",
       "      <th>Quarterly Rating</th>\n",
       "    </tr>\n",
       "  </thead>\n",
       "  <tbody>\n",
       "    <tr>\n",
       "      <th>count</th>\n",
       "      <td>19104.000000</td>\n",
       "      <td>19104.000000</td>\n",
       "      <td>19043.000000</td>\n",
       "      <td>19052.000000</td>\n",
       "      <td>19104.000000</td>\n",
       "      <td>19104.000000</td>\n",
       "      <td>19104.000000</td>\n",
       "      <td>19104.000000</td>\n",
       "      <td>1.910400e+04</td>\n",
       "      <td>19104.000000</td>\n",
       "    </tr>\n",
       "    <tr>\n",
       "      <th>mean</th>\n",
       "      <td>9551.500000</td>\n",
       "      <td>1415.591133</td>\n",
       "      <td>34.668435</td>\n",
       "      <td>0.418749</td>\n",
       "      <td>1.021671</td>\n",
       "      <td>65652.025126</td>\n",
       "      <td>1.690536</td>\n",
       "      <td>2.252670</td>\n",
       "      <td>5.716621e+05</td>\n",
       "      <td>2.008899</td>\n",
       "    </tr>\n",
       "    <tr>\n",
       "      <th>std</th>\n",
       "      <td>5514.994107</td>\n",
       "      <td>810.705321</td>\n",
       "      <td>6.257912</td>\n",
       "      <td>0.493367</td>\n",
       "      <td>0.800167</td>\n",
       "      <td>30914.515344</td>\n",
       "      <td>0.836984</td>\n",
       "      <td>1.026512</td>\n",
       "      <td>1.128312e+06</td>\n",
       "      <td>1.009832</td>\n",
       "    </tr>\n",
       "    <tr>\n",
       "      <th>min</th>\n",
       "      <td>0.000000</td>\n",
       "      <td>1.000000</td>\n",
       "      <td>21.000000</td>\n",
       "      <td>0.000000</td>\n",
       "      <td>0.000000</td>\n",
       "      <td>10747.000000</td>\n",
       "      <td>1.000000</td>\n",
       "      <td>1.000000</td>\n",
       "      <td>-6.000000e+06</td>\n",
       "      <td>1.000000</td>\n",
       "    </tr>\n",
       "    <tr>\n",
       "      <th>25%</th>\n",
       "      <td>4775.750000</td>\n",
       "      <td>710.000000</td>\n",
       "      <td>30.000000</td>\n",
       "      <td>0.000000</td>\n",
       "      <td>0.000000</td>\n",
       "      <td>42383.000000</td>\n",
       "      <td>1.000000</td>\n",
       "      <td>1.000000</td>\n",
       "      <td>0.000000e+00</td>\n",
       "      <td>1.000000</td>\n",
       "    </tr>\n",
       "    <tr>\n",
       "      <th>50%</th>\n",
       "      <td>9551.500000</td>\n",
       "      <td>1417.000000</td>\n",
       "      <td>34.000000</td>\n",
       "      <td>0.000000</td>\n",
       "      <td>1.000000</td>\n",
       "      <td>60087.000000</td>\n",
       "      <td>1.000000</td>\n",
       "      <td>2.000000</td>\n",
       "      <td>2.500000e+05</td>\n",
       "      <td>2.000000</td>\n",
       "    </tr>\n",
       "    <tr>\n",
       "      <th>75%</th>\n",
       "      <td>14327.250000</td>\n",
       "      <td>2137.000000</td>\n",
       "      <td>39.000000</td>\n",
       "      <td>1.000000</td>\n",
       "      <td>2.000000</td>\n",
       "      <td>83969.000000</td>\n",
       "      <td>2.000000</td>\n",
       "      <td>3.000000</td>\n",
       "      <td>6.997000e+05</td>\n",
       "      <td>3.000000</td>\n",
       "    </tr>\n",
       "    <tr>\n",
       "      <th>max</th>\n",
       "      <td>19103.000000</td>\n",
       "      <td>2788.000000</td>\n",
       "      <td>58.000000</td>\n",
       "      <td>1.000000</td>\n",
       "      <td>2.000000</td>\n",
       "      <td>188418.000000</td>\n",
       "      <td>5.000000</td>\n",
       "      <td>5.000000</td>\n",
       "      <td>3.374772e+07</td>\n",
       "      <td>4.000000</td>\n",
       "    </tr>\n",
       "  </tbody>\n",
       "</table>\n",
       "</div>"
      ],
      "text/plain": [
       "         Unnamed: 0     Driver_ID           Age        Gender  \\\n",
       "count  19104.000000  19104.000000  19043.000000  19052.000000   \n",
       "mean    9551.500000   1415.591133     34.668435      0.418749   \n",
       "std     5514.994107    810.705321      6.257912      0.493367   \n",
       "min        0.000000      1.000000     21.000000      0.000000   \n",
       "25%     4775.750000    710.000000     30.000000      0.000000   \n",
       "50%     9551.500000   1417.000000     34.000000      0.000000   \n",
       "75%    14327.250000   2137.000000     39.000000      1.000000   \n",
       "max    19103.000000   2788.000000     58.000000      1.000000   \n",
       "\n",
       "       Education_Level         Income  Joining Designation         Grade  \\\n",
       "count     19104.000000   19104.000000         19104.000000  19104.000000   \n",
       "mean          1.021671   65652.025126             1.690536      2.252670   \n",
       "std           0.800167   30914.515344             0.836984      1.026512   \n",
       "min           0.000000   10747.000000             1.000000      1.000000   \n",
       "25%           0.000000   42383.000000             1.000000      1.000000   \n",
       "50%           1.000000   60087.000000             1.000000      2.000000   \n",
       "75%           2.000000   83969.000000             2.000000      3.000000   \n",
       "max           2.000000  188418.000000             5.000000      5.000000   \n",
       "\n",
       "       Total Business Value  Quarterly Rating  \n",
       "count          1.910400e+04      19104.000000  \n",
       "mean           5.716621e+05          2.008899  \n",
       "std            1.128312e+06          1.009832  \n",
       "min           -6.000000e+06          1.000000  \n",
       "25%            0.000000e+00          1.000000  \n",
       "50%            2.500000e+05          2.000000  \n",
       "75%            6.997000e+05          3.000000  \n",
       "max            3.374772e+07          4.000000  "
      ]
     },
     "execution_count": 7,
     "metadata": {},
     "output_type": "execute_result"
    }
   ],
   "source": [
    "# Statistical information for data\n",
    "df.describe()"
   ]
  },
  {
   "cell_type": "code",
   "execution_count": 8,
   "metadata": {
    "colab": {
     "base_uri": "https://localhost:8080/"
    },
    "executionInfo": {
     "elapsed": 13,
     "status": "ok",
     "timestamp": 1690368009610,
     "user": {
      "displayName": "Digamber Jawalge",
      "userId": "03999219238660810969"
     },
     "user_tz": -330
    },
    "id": "Z2AlKKBC_R2q",
    "outputId": "e6daf203-e0ae-4ee1-a899-7723e1413265"
   },
   "outputs": [
    {
     "data": {
      "text/plain": [
       "Unnamed: 0                  0\n",
       "MMM-YY                      0\n",
       "Driver_ID                   0\n",
       "Age                        61\n",
       "Gender                     52\n",
       "City                        0\n",
       "Education_Level             0\n",
       "Income                      0\n",
       "Dateofjoining               0\n",
       "LastWorkingDate         17488\n",
       "Joining Designation         0\n",
       "Grade                       0\n",
       "Total Business Value        0\n",
       "Quarterly Rating            0\n",
       "dtype: int64"
      ]
     },
     "execution_count": 8,
     "metadata": {},
     "output_type": "execute_result"
    }
   ],
   "source": [
    "# Checking for missing values in data\n",
    "df.isnull().sum()"
   ]
  },
  {
   "cell_type": "code",
   "execution_count": 9,
   "metadata": {
    "colab": {
     "base_uri": "https://localhost:8080/"
    },
    "executionInfo": {
     "elapsed": 11,
     "status": "ok",
     "timestamp": 1690368009610,
     "user": {
      "displayName": "Digamber Jawalge",
      "userId": "03999219238660810969"
     },
     "user_tz": -330
    },
    "id": "CKksbZqr_hE3",
    "outputId": "3c91d812-2adc-4427-87a0-1968b18528e9"
   },
   "outputs": [
    {
     "data": {
      "text/plain": [
       "0"
      ]
     },
     "execution_count": 9,
     "metadata": {},
     "output_type": "execute_result"
    }
   ],
   "source": [
    "# Validating duplicated data\n",
    "df.duplicated().sum()"
   ]
  },
  {
   "cell_type": "markdown",
   "metadata": {
    "id": "19QTJCsh_vPs"
   },
   "source": [
    "### Observation"
   ]
  },
  {
   "cell_type": "markdown",
   "metadata": {},
   "source": [
    "- The dataset contains 19,104 rows and 14 columns.\n",
    "- There are missing values in the 'Age' and 'Gender' columns.\n",
    "- The 'LastWorkingDate' column has a significant number of missing values (17,488 out of 19,104).\n",
    "- The 'Age' column has a mean age of approximately 34.67 with a minimum age of 21 and a maximum age of 58.\n",
    "- The 'Income' column has a mean income of approximately 65,652 with a minimum income of 10,747 and a maximum income of 188,418.\n",
    "- The 'Total Business Value' column has a mean value of approximately 571,662 with a minimum value of -6,000,000 and a maximum value of 33,747,720.\n",
    "- The majority of employees have 'Joining Designation' level 1 and 'Grade' level 2.\n",
    "- There are no duplicated entries in the dataset."
   ]
  },
  {
   "cell_type": "markdown",
   "metadata": {
    "id": "Nj5TZBWLMPt8"
   },
   "source": [
    "### Data Pre-processing"
   ]
  },
  {
   "cell_type": "code",
   "execution_count": 10,
   "metadata": {
    "executionInfo": {
     "elapsed": 16,
     "status": "ok",
     "timestamp": 1690368009616,
     "user": {
      "displayName": "Digamber Jawalge",
      "userId": "03999219238660810969"
     },
     "user_tz": -330
    },
    "id": "XyisFBnAvAge"
   },
   "outputs": [],
   "source": [
    "# Removing unwanted columns\n",
    "df = df.drop('Unnamed: 0', axis=1)"
   ]
  },
  {
   "cell_type": "code",
   "execution_count": 11,
   "metadata": {
    "executionInfo": {
     "elapsed": 1053,
     "status": "ok",
     "timestamp": 1690368010654,
     "user": {
      "displayName": "Digamber Jawalge",
      "userId": "03999219238660810969"
     },
     "user_tz": -330
    },
    "id": "53KEw8P4MOgk"
   },
   "outputs": [],
   "source": [
    "# Handling missing values for 'Age' column using KNN imputaion method\n",
    "from sklearn.impute import KNNImputer\n",
    "\n",
    "# Perform KNN imputation only on the 'Age' column\n",
    "data_to_impute = df[['Age']]\n",
    "imputer = KNNImputer(n_neighbors=5)\n",
    "imputed_data = imputer.fit_transform(data_to_impute)\n",
    "\n",
    "# Convert the imputed data back to a DataFrame\n",
    "imputed_df = pd.DataFrame(imputed_data, columns=['Age'])\n",
    "df['Age'] = imputed_df['Age']"
   ]
  },
  {
   "cell_type": "code",
   "execution_count": 12,
   "metadata": {
    "executionInfo": {
     "elapsed": 5,
     "status": "ok",
     "timestamp": 1690368010655,
     "user": {
      "displayName": "Digamber Jawalge",
      "userId": "03999219238660810969"
     },
     "user_tz": -330
    },
    "id": "UP2_-zlSR0aX"
   },
   "outputs": [],
   "source": [
    "# Handling missing values for 'Gender' column\n",
    "df['Gender'].fillna('Not Specified', inplace=True)"
   ]
  },
  {
   "cell_type": "code",
   "execution_count": 13,
   "metadata": {},
   "outputs": [],
   "source": [
    "# Convert date-like features to datetime data type\n",
    "df['MMM-YY'] = pd.to_datetime(df['MMM-YY'])\n",
    "df['Dateofjoining'] = pd.to_datetime(df['Dateofjoining'])\n",
    "df['LastWorkingDate'] = pd.to_datetime(df['LastWorkingDate'])"
   ]
  },
  {
   "cell_type": "markdown",
   "metadata": {},
   "source": [
    "### Feature Engineering"
   ]
  },
  {
   "cell_type": "code",
   "execution_count": 14,
   "metadata": {},
   "outputs": [],
   "source": [
    "# Calculate the difference between consecutive quarterly ratings for each driver\n",
    "df['Rating_Increased'] = (df.groupby('Driver_ID')['Quarterly Rating']\n",
    "                          .diff()\n",
    "                          .gt(0)\n",
    "                          .astype(int))\n",
    "\n",
    "# If the first entry for a driver has NaN difference, set it to 0 (no rating increase)\n",
    "df['Rating_Increased'].fillna(0, inplace=True)\n",
    "\n",
    "# Calculate the difference between consecutive income values for each driver\n",
    "df['Income_Increased'] = (df.groupby('Driver_ID')['Income']\n",
    "                          .diff()\n",
    "                          .gt(0)\n",
    "                          .astype(int))\n",
    "\n",
    "# If the first entry for a driver has NaN difference, set it to 0 (no income increase)\n",
    "df['Income_Increased'].fillna(0, inplace=True)"
   ]
  },
  {
   "cell_type": "code",
   "execution_count": 15,
   "metadata": {},
   "outputs": [],
   "source": [
    "# Create the target column\n",
    "df['Is_Active'] = df['LastWorkingDate'].isnull().astype(int)\n",
    "\n",
    "# Drop 'LastWorkingDate' if it's no longer needed for analysis\n",
    "df.drop('LastWorkingDate', axis=1, inplace=True)"
   ]
  },
  {
   "cell_type": "code",
   "execution_count": 16,
   "metadata": {},
   "outputs": [
    {
     "data": {
      "text/html": [
       "<div>\n",
       "<style scoped>\n",
       "    .dataframe tbody tr th:only-of-type {\n",
       "        vertical-align: middle;\n",
       "    }\n",
       "\n",
       "    .dataframe tbody tr th {\n",
       "        vertical-align: top;\n",
       "    }\n",
       "\n",
       "    .dataframe thead th {\n",
       "        text-align: right;\n",
       "    }\n",
       "</style>\n",
       "<table border=\"1\" class=\"dataframe\">\n",
       "  <thead>\n",
       "    <tr style=\"text-align: right;\">\n",
       "      <th></th>\n",
       "      <th>MMM-YY</th>\n",
       "      <th>Driver_ID</th>\n",
       "      <th>Age</th>\n",
       "      <th>Gender</th>\n",
       "      <th>City</th>\n",
       "      <th>Education_Level</th>\n",
       "      <th>Income</th>\n",
       "      <th>Dateofjoining</th>\n",
       "      <th>Joining Designation</th>\n",
       "      <th>Grade</th>\n",
       "      <th>Total Business Value</th>\n",
       "      <th>Quarterly Rating</th>\n",
       "      <th>Rating_Increased</th>\n",
       "      <th>Income_Increased</th>\n",
       "      <th>Is_Active</th>\n",
       "    </tr>\n",
       "  </thead>\n",
       "  <tbody>\n",
       "    <tr>\n",
       "      <th>0</th>\n",
       "      <td>2019-01-01</td>\n",
       "      <td>1</td>\n",
       "      <td>28.0</td>\n",
       "      <td>0.0</td>\n",
       "      <td>C23</td>\n",
       "      <td>2</td>\n",
       "      <td>57387</td>\n",
       "      <td>2018-12-24</td>\n",
       "      <td>1</td>\n",
       "      <td>1</td>\n",
       "      <td>2381060</td>\n",
       "      <td>2</td>\n",
       "      <td>0</td>\n",
       "      <td>0</td>\n",
       "      <td>1</td>\n",
       "    </tr>\n",
       "    <tr>\n",
       "      <th>1</th>\n",
       "      <td>2019-02-01</td>\n",
       "      <td>1</td>\n",
       "      <td>28.0</td>\n",
       "      <td>0.0</td>\n",
       "      <td>C23</td>\n",
       "      <td>2</td>\n",
       "      <td>57387</td>\n",
       "      <td>2018-12-24</td>\n",
       "      <td>1</td>\n",
       "      <td>1</td>\n",
       "      <td>-665480</td>\n",
       "      <td>2</td>\n",
       "      <td>0</td>\n",
       "      <td>0</td>\n",
       "      <td>1</td>\n",
       "    </tr>\n",
       "    <tr>\n",
       "      <th>2</th>\n",
       "      <td>2019-03-01</td>\n",
       "      <td>1</td>\n",
       "      <td>28.0</td>\n",
       "      <td>0.0</td>\n",
       "      <td>C23</td>\n",
       "      <td>2</td>\n",
       "      <td>57387</td>\n",
       "      <td>2018-12-24</td>\n",
       "      <td>1</td>\n",
       "      <td>1</td>\n",
       "      <td>0</td>\n",
       "      <td>2</td>\n",
       "      <td>0</td>\n",
       "      <td>0</td>\n",
       "      <td>0</td>\n",
       "    </tr>\n",
       "    <tr>\n",
       "      <th>3</th>\n",
       "      <td>2020-11-01</td>\n",
       "      <td>2</td>\n",
       "      <td>31.0</td>\n",
       "      <td>0.0</td>\n",
       "      <td>C7</td>\n",
       "      <td>2</td>\n",
       "      <td>67016</td>\n",
       "      <td>2020-11-06</td>\n",
       "      <td>2</td>\n",
       "      <td>2</td>\n",
       "      <td>0</td>\n",
       "      <td>1</td>\n",
       "      <td>0</td>\n",
       "      <td>0</td>\n",
       "      <td>1</td>\n",
       "    </tr>\n",
       "    <tr>\n",
       "      <th>4</th>\n",
       "      <td>2020-12-01</td>\n",
       "      <td>2</td>\n",
       "      <td>31.0</td>\n",
       "      <td>0.0</td>\n",
       "      <td>C7</td>\n",
       "      <td>2</td>\n",
       "      <td>67016</td>\n",
       "      <td>2020-11-06</td>\n",
       "      <td>2</td>\n",
       "      <td>2</td>\n",
       "      <td>0</td>\n",
       "      <td>1</td>\n",
       "      <td>0</td>\n",
       "      <td>0</td>\n",
       "      <td>1</td>\n",
       "    </tr>\n",
       "  </tbody>\n",
       "</table>\n",
       "</div>"
      ],
      "text/plain": [
       "      MMM-YY  Driver_ID   Age Gender City  Education_Level  Income  \\\n",
       "0 2019-01-01          1  28.0    0.0  C23                2   57387   \n",
       "1 2019-02-01          1  28.0    0.0  C23                2   57387   \n",
       "2 2019-03-01          1  28.0    0.0  C23                2   57387   \n",
       "3 2020-11-01          2  31.0    0.0   C7                2   67016   \n",
       "4 2020-12-01          2  31.0    0.0   C7                2   67016   \n",
       "\n",
       "  Dateofjoining  Joining Designation  Grade  Total Business Value  \\\n",
       "0    2018-12-24                    1      1               2381060   \n",
       "1    2018-12-24                    1      1               -665480   \n",
       "2    2018-12-24                    1      1                     0   \n",
       "3    2020-11-06                    2      2                     0   \n",
       "4    2020-11-06                    2      2                     0   \n",
       "\n",
       "   Quarterly Rating  Rating_Increased  Income_Increased  Is_Active  \n",
       "0                 2                 0                 0          1  \n",
       "1                 2                 0                 0          1  \n",
       "2                 2                 0                 0          0  \n",
       "3                 1                 0                 0          1  \n",
       "4                 1                 0                 0          1  "
      ]
     },
     "execution_count": 16,
     "metadata": {},
     "output_type": "execute_result"
    }
   ],
   "source": [
    "df.head()"
   ]
  },
  {
   "cell_type": "markdown",
   "metadata": {
    "id": "yXKYOcEoSpTi"
   },
   "source": [
    "### Grouping and aggregating the data according to DriverID"
   ]
  },
  {
   "cell_type": "code",
   "execution_count": 17,
   "metadata": {
    "executionInfo": {
     "elapsed": 897,
     "status": "ok",
     "timestamp": 1690368011548,
     "user": {
      "displayName": "Digamber Jawalge",
      "userId": "03999219238660810969"
     },
     "user_tz": -330
    },
    "id": "JpWbN0Sl4Voc"
   },
   "outputs": [],
   "source": [
    "# Create a group dictionary to aggregate the data\n",
    "group_dict = {\n",
    "    'Age': 'mean',\n",
    "    'Gender': 'first',\n",
    "    'City': 'first',\n",
    "    'Education_Level': 'max',\n",
    "    'Income': 'mean',\n",
    "    'Joining Designation': 'first',\n",
    "    'Grade': lambda x: x.mode().iat[0],\n",
    "    'Total Business Value': 'sum',\n",
    "    'Quarterly Rating': lambda x: x.mode().iat[0],\n",
    "    'Rating_Increased': 'max',\n",
    "    'Income_Increased': 'max',\n",
    "    'Is_Active': 'max',\n",
    "}"
   ]
  },
  {
   "cell_type": "code",
   "execution_count": 18,
   "metadata": {
    "executionInfo": {
     "elapsed": 12,
     "status": "ok",
     "timestamp": 1690368011548,
     "user": {
      "displayName": "Digamber Jawalge",
      "userId": "03999219238660810969"
     },
     "user_tz": -330
    },
    "id": "sjtWQGsKmIJX"
   },
   "outputs": [],
   "source": [
    "grouped_data = df.groupby('Driver_ID').agg(group_dict).reset_index()"
   ]
  },
  {
   "cell_type": "code",
   "execution_count": 19,
   "metadata": {
    "colab": {
     "base_uri": "https://localhost:8080/",
     "height": 499
    },
    "executionInfo": {
     "elapsed": 10,
     "status": "ok",
     "timestamp": 1690368011549,
     "user": {
      "displayName": "Digamber Jawalge",
      "userId": "03999219238660810969"
     },
     "user_tz": -330
    },
    "id": "X42hxP8-mpqr",
    "outputId": "b87d13bc-def5-4118-f98a-e6cc66c5d7cc"
   },
   "outputs": [
    {
     "data": {
      "text/plain": [
       "(2381, 13)"
      ]
     },
     "execution_count": 19,
     "metadata": {},
     "output_type": "execute_result"
    }
   ],
   "source": [
    "grouped_data.shape"
   ]
  },
  {
   "cell_type": "code",
   "execution_count": 20,
   "metadata": {
    "executionInfo": {
     "elapsed": 8,
     "status": "ok",
     "timestamp": 1690368011549,
     "user": {
      "displayName": "Digamber Jawalge",
      "userId": "03999219238660810969"
     },
     "user_tz": -330
    },
    "id": "LaorEH-g1oS_"
   },
   "outputs": [
    {
     "data": {
      "text/html": [
       "<div>\n",
       "<style scoped>\n",
       "    .dataframe tbody tr th:only-of-type {\n",
       "        vertical-align: middle;\n",
       "    }\n",
       "\n",
       "    .dataframe tbody tr th {\n",
       "        vertical-align: top;\n",
       "    }\n",
       "\n",
       "    .dataframe thead th {\n",
       "        text-align: right;\n",
       "    }\n",
       "</style>\n",
       "<table border=\"1\" class=\"dataframe\">\n",
       "  <thead>\n",
       "    <tr style=\"text-align: right;\">\n",
       "      <th></th>\n",
       "      <th>Driver_ID</th>\n",
       "      <th>Age</th>\n",
       "      <th>Gender</th>\n",
       "      <th>City</th>\n",
       "      <th>Education_Level</th>\n",
       "      <th>Income</th>\n",
       "      <th>Joining Designation</th>\n",
       "      <th>Grade</th>\n",
       "      <th>Total Business Value</th>\n",
       "      <th>Quarterly Rating</th>\n",
       "      <th>Rating_Increased</th>\n",
       "      <th>Income_Increased</th>\n",
       "      <th>Is_Active</th>\n",
       "    </tr>\n",
       "  </thead>\n",
       "  <tbody>\n",
       "    <tr>\n",
       "      <th>0</th>\n",
       "      <td>1</td>\n",
       "      <td>28.0</td>\n",
       "      <td>0.0</td>\n",
       "      <td>C23</td>\n",
       "      <td>2</td>\n",
       "      <td>57387.0</td>\n",
       "      <td>1</td>\n",
       "      <td>1</td>\n",
       "      <td>1715580</td>\n",
       "      <td>2</td>\n",
       "      <td>0</td>\n",
       "      <td>0</td>\n",
       "      <td>1</td>\n",
       "    </tr>\n",
       "    <tr>\n",
       "      <th>1</th>\n",
       "      <td>2</td>\n",
       "      <td>31.0</td>\n",
       "      <td>0.0</td>\n",
       "      <td>C7</td>\n",
       "      <td>2</td>\n",
       "      <td>67016.0</td>\n",
       "      <td>2</td>\n",
       "      <td>2</td>\n",
       "      <td>0</td>\n",
       "      <td>1</td>\n",
       "      <td>0</td>\n",
       "      <td>0</td>\n",
       "      <td>1</td>\n",
       "    </tr>\n",
       "    <tr>\n",
       "      <th>2</th>\n",
       "      <td>4</td>\n",
       "      <td>43.0</td>\n",
       "      <td>0.0</td>\n",
       "      <td>C13</td>\n",
       "      <td>2</td>\n",
       "      <td>65603.0</td>\n",
       "      <td>2</td>\n",
       "      <td>2</td>\n",
       "      <td>350000</td>\n",
       "      <td>1</td>\n",
       "      <td>0</td>\n",
       "      <td>0</td>\n",
       "      <td>1</td>\n",
       "    </tr>\n",
       "    <tr>\n",
       "      <th>3</th>\n",
       "      <td>5</td>\n",
       "      <td>29.0</td>\n",
       "      <td>0.0</td>\n",
       "      <td>C9</td>\n",
       "      <td>0</td>\n",
       "      <td>46368.0</td>\n",
       "      <td>1</td>\n",
       "      <td>1</td>\n",
       "      <td>120360</td>\n",
       "      <td>1</td>\n",
       "      <td>0</td>\n",
       "      <td>0</td>\n",
       "      <td>1</td>\n",
       "    </tr>\n",
       "    <tr>\n",
       "      <th>4</th>\n",
       "      <td>6</td>\n",
       "      <td>31.0</td>\n",
       "      <td>1.0</td>\n",
       "      <td>C11</td>\n",
       "      <td>1</td>\n",
       "      <td>78728.0</td>\n",
       "      <td>3</td>\n",
       "      <td>3</td>\n",
       "      <td>1265000</td>\n",
       "      <td>2</td>\n",
       "      <td>1</td>\n",
       "      <td>0</td>\n",
       "      <td>1</td>\n",
       "    </tr>\n",
       "  </tbody>\n",
       "</table>\n",
       "</div>"
      ],
      "text/plain": [
       "   Driver_ID   Age Gender City  Education_Level   Income  Joining Designation  \\\n",
       "0          1  28.0    0.0  C23                2  57387.0                    1   \n",
       "1          2  31.0    0.0   C7                2  67016.0                    2   \n",
       "2          4  43.0    0.0  C13                2  65603.0                    2   \n",
       "3          5  29.0    0.0   C9                0  46368.0                    1   \n",
       "4          6  31.0    1.0  C11                1  78728.0                    3   \n",
       "\n",
       "   Grade  Total Business Value  Quarterly Rating  Rating_Increased  \\\n",
       "0      1               1715580                 2                 0   \n",
       "1      2                     0                 1                 0   \n",
       "2      2                350000                 1                 0   \n",
       "3      1                120360                 1                 0   \n",
       "4      3               1265000                 2                 1   \n",
       "\n",
       "   Income_Increased  Is_Active  \n",
       "0                 0          1  \n",
       "1                 0          1  \n",
       "2                 0          1  \n",
       "3                 0          1  \n",
       "4                 0          1  "
      ]
     },
     "execution_count": 20,
     "metadata": {},
     "output_type": "execute_result"
    }
   ],
   "source": [
    "grouped_data.head()"
   ]
  },
  {
   "cell_type": "code",
   "execution_count": 21,
   "metadata": {
    "scrolled": false
   },
   "outputs": [
    {
     "data": {
      "image/png": "[encoded data removed]",
      "text/plain": [
       "<Figure size 1080x720 with 2 Axes>"
      ]
     },
     "metadata": {
      "needs_background": "light"
     },
     "output_type": "display_data"
    }
   ],
   "source": [
    "# Co-relation of data using heatmap\n",
    "fig, ax = plt.subplots(figsize=(15,10))\n",
    "sns.heatmap(grouped_data.corr(),annot=True, cmap=\"Blues\")\n",
    "plt.show()"
   ]
  },
  {
   "cell_type": "markdown",
   "metadata": {},
   "source": [
    "### Observation"
   ]
  },
  {
   "cell_type": "markdown",
   "metadata": {},
   "source": [
    "- From the above heatmap we can say that variables Grade and Income are highly corelated.\n",
    "- Also Joining Designation and Grade are higly corelated."
   ]
  },
  {
   "cell_type": "markdown",
   "metadata": {
    "id": "R59WasAAFfg9"
   },
   "source": [
    "### Outliers detection using box-plots"
   ]
  },
  {
   "cell_type": "code",
   "execution_count": 22,
   "metadata": {
    "colab": {
     "base_uri": "https://localhost:8080/",
     "height": 430
    },
    "executionInfo": {
     "elapsed": 1097,
     "status": "ok",
     "timestamp": 1690368021475,
     "user": {
      "displayName": "Digamber Jawalge",
      "userId": "03999219238660810969"
     },
     "user_tz": -330
    },
    "id": "rlA2jjtT_Rth",
    "outputId": "9d9e835c-fdfa-421f-f912-5aac39b2020c"
   },
   "outputs": [
    {
     "data": {
      "image/png": "[encoded data removed]",
      "text/plain": [
       "<Figure size 1080x360 with 3 Axes>"
      ]
     },
     "metadata": {
      "needs_background": "light"
     },
     "output_type": "display_data"
    }
   ],
   "source": [
    "# Plot box plot for each numerical variable in a 1x3 grid\n",
    "fig, axes = plt.subplots(1, 3, figsize=(15, 5))\n",
    "fig.suptitle(\"Box Plots for Numerical Variables\", fontsize=16)\n",
    "\n",
    "num_var = ['Age', 'Income', 'Total Business Value']\n",
    "\n",
    "for i, var in enumerate(num_var):\n",
    "    sns.boxplot(data=grouped_data, x=var, ax=axes[i], orient='h')\n",
    "    axes[i].set_xlabel(var)\n",
    "\n",
    "plt.tight_layout()\n",
    "plt.show()"
   ]
  },
  {
   "cell_type": "markdown",
   "metadata": {
    "id": "zZNoSb8RFGz9"
   },
   "source": [
    "### Outliers treatment using z-score method"
   ]
  },
  {
   "cell_type": "code",
   "execution_count": 23,
   "metadata": {
    "executionInfo": {
     "elapsed": 11,
     "status": "ok",
     "timestamp": 1690368021476,
     "user": {
      "displayName": "Digamber Jawalge",
      "userId": "03999219238660810969"
     },
     "user_tz": -330
    },
    "id": "yUdlp_L9DjHl"
   },
   "outputs": [],
   "source": [
    "# Outliers treatment using z-score method\n",
    "\n",
    "for col in num_var:\n",
    "    mean = grouped_data[col].mean()\n",
    "    std = grouped_data[col].std()\n",
    "\n",
    "# Calculate the upper and lower limits for outliers (3 times the standard deviation from the mean)\n",
    "    upper_limit = mean + 3 * std\n",
    "    lower_limit = mean - 3 * std\n",
    "\n",
    "# Filter the DataFrame to retain only the data points within the upper and lower limits\n",
    "    grouped_data = grouped_data[(grouped_data[col] < upper_limit) & (grouped_data[col] > lower_limit)]"
   ]
  },
  {
   "cell_type": "code",
   "execution_count": 24,
   "metadata": {
    "colab": {
     "base_uri": "https://localhost:8080/"
    },
    "executionInfo": {
     "elapsed": 7,
     "status": "ok",
     "timestamp": 1690369335422,
     "user": {
      "displayName": "Digamber Jawalge",
      "userId": "03999219238660810969"
     },
     "user_tz": -330
    },
    "id": "-J_azxTZybXw",
    "outputId": "693e080e-ae89-4dd7-aef9-e8d78b7f2aeb"
   },
   "outputs": [
    {
     "data": {
      "text/plain": [
       "(2292, 13)"
      ]
     },
     "execution_count": 24,
     "metadata": {},
     "output_type": "execute_result"
    }
   ],
   "source": [
    "# Structure of the data after outliers removal\n",
    "grouped_data.shape"
   ]
  },
  {
   "cell_type": "markdown",
   "metadata": {
    "id": "mFUUgbt31oxr"
   },
   "source": [
    "### Univariate analysis"
   ]
  },
  {
   "cell_type": "code",
   "execution_count": 25,
   "metadata": {
    "executionInfo": {
     "elapsed": 9,
     "status": "ok",
     "timestamp": 1690368011550,
     "user": {
      "displayName": "Digamber Jawalge",
      "userId": "03999219238660810969"
     },
     "user_tz": -330
    },
    "id": "lSLwYhfmnGvV"
   },
   "outputs": [],
   "source": [
    "#Categorizing the variables\n",
    "cat_var = ['Gender', 'City', 'Education_Level', 'Grade', 'Joining Designation', 'Quarterly Rating', 'Rating_Increased', 'Income_Increased', 'Is_Active']\n",
    "num_var = ['Age', 'Income', 'Total Business Value']"
   ]
  },
  {
   "cell_type": "code",
   "execution_count": 26,
   "metadata": {
    "colab": {
     "base_uri": "https://localhost:8080/",
     "height": 840
    },
    "executionInfo": {
     "elapsed": 1472,
     "status": "ok",
     "timestamp": 1690368013013,
     "user": {
      "displayName": "Digamber Jawalge",
      "userId": "03999219238660810969"
     },
     "user_tz": -330
    },
    "id": "E7Cfrm8SlUnr",
    "outputId": "56dcbbeb-ea80-4d03-9aaf-e4321f51e6e9",
    "scrolled": false
   },
   "outputs": [
    {
     "data": {
      "image/png": "[encoded data removed]",
      "text/plain": [
       "<Figure size 1080x936 with 9 Axes>"
      ]
     },
     "metadata": {
      "needs_background": "light"
     },
     "output_type": "display_data"
    }
   ],
   "source": [
    "# Count plots for each categorical variable\n",
    "fig, axes = plt.subplots(3, 3, figsize=(15, 13))\n",
    "fig.suptitle(\"Count Plots for Categorical Variables\", fontsize=16)\n",
    "\n",
    "for i, cat_var in enumerate(['Gender', 'City', 'Education_Level', 'Grade', 'Joining Designation', 'Quarterly Rating', 'Rating_Increased', 'Income_Increased', 'Is_Active']):\n",
    "    row = i // 3\n",
    "    col = i % 3\n",
    "    sns.countplot(data=grouped_data, x=cat_var, palette = 'mako', ax=axes[row, col])\n",
    "    axes[row, col].set_xlabel(cat_var)\n",
    "    axes[row, col].set_ylabel('Count')\n",
    "    axes[row, col].set_xticklabels(axes[row, col].get_xticklabels(), rotation=90)\n",
    "\n",
    "plt.tight_layout()\n",
    "plt.show()"
   ]
  },
  {
   "cell_type": "code",
   "execution_count": 27,
   "metadata": {
    "scrolled": false
   },
   "outputs": [
    {
     "name": "stdout",
     "output_type": "stream",
     "text": [
      "Value counts and percentages for variable Gender :\n",
      "\n",
      "0.0 : 1350 ( 58.9 %)\n",
      "1.0 : 936 ( 40.84 %)\n",
      "Not Specified : 6 ( 0.26 %)\n",
      "\n",
      "Value counts and percentages for variable City :\n",
      "\n",
      "C20 : 148 ( 6.46 %)\n",
      "C15 : 99 ( 4.32 %)\n",
      "C29 : 91 ( 3.97 %)\n",
      "C26 : 89 ( 3.88 %)\n",
      "C8 : 85 ( 3.71 %)\n",
      "C10 : 85 ( 3.71 %)\n",
      "C27 : 85 ( 3.71 %)\n",
      "C16 : 82 ( 3.58 %)\n",
      "C3 : 81 ( 3.53 %)\n",
      "C28 : 79 ( 3.45 %)\n",
      "C21 : 78 ( 3.4 %)\n",
      "C5 : 77 ( 3.36 %)\n",
      "C22 : 77 ( 3.36 %)\n",
      "C12 : 77 ( 3.36 %)\n",
      "C6 : 75 ( 3.27 %)\n",
      "C1 : 75 ( 3.27 %)\n",
      "C7 : 73 ( 3.18 %)\n",
      "C14 : 73 ( 3.18 %)\n",
      "C9 : 73 ( 3.18 %)\n",
      "C23 : 73 ( 3.18 %)\n",
      "C4 : 72 ( 3.14 %)\n",
      "C25 : 71 ( 3.1 %)\n",
      "C24 : 70 ( 3.05 %)\n",
      "C17 : 70 ( 3.05 %)\n",
      "C19 : 70 ( 3.05 %)\n",
      "C2 : 70 ( 3.05 %)\n",
      "C18 : 67 ( 2.92 %)\n",
      "C13 : 64 ( 2.79 %)\n",
      "C11 : 63 ( 2.75 %)\n",
      "\n",
      "Value counts and percentages for variable Education_Level :\n",
      "\n",
      "2 : 777 ( 33.9 %)\n",
      "1 : 762 ( 33.25 %)\n",
      "0 : 753 ( 32.85 %)\n",
      "\n",
      "Value counts and percentages for variable Grade :\n",
      "\n",
      "2 : 853 ( 37.22 %)\n",
      "1 : 743 ( 32.42 %)\n",
      "3 : 591 ( 25.79 %)\n",
      "4 : 95 ( 4.14 %)\n",
      "5 : 10 ( 0.44 %)\n",
      "\n",
      "Value counts and percentages for variable Joining Designation :\n",
      "\n",
      "1 : 980 ( 42.76 %)\n",
      "2 : 787 ( 34.34 %)\n",
      "3 : 485 ( 21.16 %)\n",
      "4 : 34 ( 1.48 %)\n",
      "5 : 6 ( 0.26 %)\n",
      "\n",
      "Value counts and percentages for variable Quarterly Rating :\n",
      "\n",
      "1 : 1533 ( 66.88 %)\n",
      "2 : 490 ( 21.38 %)\n",
      "3 : 212 ( 9.25 %)\n",
      "4 : 57 ( 2.49 %)\n",
      "\n",
      "Value counts and percentages for variable Rating_Increased :\n",
      "\n",
      "0 : 1543 ( 67.32 %)\n",
      "1 : 749 ( 32.68 %)\n",
      "\n",
      "Value counts and percentages for variable Income_Increased :\n",
      "\n",
      "0 : 2270 ( 99.04 %)\n",
      "1 : 22 ( 0.96 %)\n",
      "\n",
      "Value counts and percentages for variable Is_Active :\n",
      "\n",
      "1 : 2191 ( 95.59 %)\n",
      "0 : 101 ( 4.41 %)\n",
      "\n"
     ]
    }
   ],
   "source": [
    "# Calculate value counts and percentages for each column\n",
    "cat_var = ['Gender', 'City', 'Education_Level', 'Grade', 'Joining Designation', 'Quarterly Rating', 'Rating_Increased', 'Income_Increased', 'Is_Active']\n",
    "for column in cat_var:\n",
    "    value_counts = grouped_data[column].value_counts()\n",
    "    total_count = len(grouped_data[column])\n",
    "    percentages = (value_counts / total_count) * 100\n",
    "    \n",
    "    print(\"Value counts and percentages for variable\", column, \":\\n\")\n",
    "    for value, count, percentage in zip(value_counts.index, value_counts.values, percentages.values):\n",
    "        print(value, \":\", count, \"(\", round(percentage, 2), \"%)\")\n",
    "    print()"
   ]
  },
  {
   "cell_type": "markdown",
   "metadata": {},
   "source": [
    "### Observation"
   ]
  },
  {
   "cell_type": "markdown",
   "metadata": {},
   "source": [
    "- In total, 58.9% of employees are males (gender 0.0) while 40.84% are females (gender 1.0) and six employees (0.26%) have not specified their gender.\n",
    "- City C20 has the highest number of employees with 148 (6.46%), followed by City C15 with 99 (4.32%). City C29 and C26 are next with 91 and 89 employees, respectively (3.97% and 3.88%).\n",
    "- 33.9% of employees fall under education level 2(Graduate), 33.25% of employees fall under education level 1(12+), 32.85% of employees fall under education level 0(10+).\n",
    "- 37.22% of employees have grade 2 followed by 32.42% have grade 1 and only 0.44% have grade 5.\n",
    "- 42.76% joined with designation level 1, 34.34% with designation level 2, and 21.16% with designation level 3. The remaining designations (4 and 5) have relatively lower representation.\n",
    "- Among the drivers 66.88% received a rating of 1, 21.38% received a rating of 2, 9.25% received a rating of 3, and 2.49% received a rating of 4.\n",
    "- Regarding rating changes, 67.32% of employees did not experience an increase, while 32.68% had their rating increased.\n",
    "- Majority of employees, 99.04%, did not receive an income increase, while only a small percentage of 0.96% had their income increased.\n",
    "- In terms of employment status, 95.59% of employees are considered active as they don't have last working date, whereas 4.41% are inactive, indicating they have left the company."
   ]
  },
  {
   "cell_type": "code",
   "execution_count": 28,
   "metadata": {
    "colab": {
     "base_uri": "https://localhost:8080/",
     "height": 429
    },
    "executionInfo": {
     "elapsed": 7376,
     "status": "ok",
     "timestamp": 1690368020382,
     "user": {
      "displayName": "Digamber Jawalge",
      "userId": "03999219238660810969"
     },
     "user_tz": -330
    },
    "id": "GzL73bM9zpi7",
    "outputId": "1ba801f7-c850-4fe6-b5b7-ec74278932e2",
    "scrolled": true
   },
   "outputs": [
    {
     "data": {
      "image/png": "[encoded data removed]",
      "text/plain": [
       "<Figure size 1080x360 with 3 Axes>"
      ]
     },
     "metadata": {
      "needs_background": "light"
     },
     "output_type": "display_data"
    }
   ],
   "source": [
    "# Plot histogram for each numerical variable in a 1x3 grid\n",
    "fig, axes = plt.subplots(1, 3, figsize=(15, 5))\n",
    "fig.suptitle(\"Histograms for Numerical Variables\", fontsize=16)\n",
    "\n",
    "num_var = ['Age', 'Income', 'Total Business Value']\n",
    "\n",
    "for i, var in enumerate(num_var):\n",
    "    sns.histplot(data=grouped_data, x=var, kde=True, ax=axes[i])\n",
    "    axes[i].set_xlabel(var)\n",
    "    axes[i].set_ylabel('Frequency')\n",
    "\n",
    "plt.tight_layout()\n",
    "plt.show()"
   ]
  },
  {
   "cell_type": "markdown",
   "metadata": {},
   "source": [
    "### Observation"
   ]
  },
  {
   "cell_type": "markdown",
   "metadata": {},
   "source": [
    "- The distribution for the variables Age and Income seems to be distributed normally.\n",
    "- The distribution for Total Business Value variable seems to be right-skewed."
   ]
  },
  {
   "cell_type": "markdown",
   "metadata": {
    "id": "K4mXjkrj3Rhh"
   },
   "source": [
    "### Bivariate analysis"
   ]
  },
  {
   "cell_type": "code",
   "execution_count": 29,
   "metadata": {},
   "outputs": [
    {
     "data": {
      "image/png": "[encoded data removed]",
      "text/plain": [
       "<Figure size 1008x360 with 2 Axes>"
      ]
     },
     "metadata": {
      "needs_background": "light"
     },
     "output_type": "display_data"
    }
   ],
   "source": [
    "# Boxplot for Grade and Income\n",
    "fig, axis = plt.subplots(1,2,figsize=(14,5))\n",
    "sns.boxplot(x=df['Grade'], y=df['Income'], palette='Paired', ax=axis[0])\n",
    "sns.boxplot(x=df['Is_Active'], y=df['Income'], palette='Paired', ax=axis[1])\n",
    "plt.show()"
   ]
  },
  {
   "cell_type": "code",
   "execution_count": 30,
   "metadata": {
    "scrolled": false
   },
   "outputs": [
    {
     "data": {
      "image/png": "[encoded data removed]",
      "text/plain": [
       "<Figure size 1080x1800 with 8 Axes>"
      ]
     },
     "metadata": {
      "needs_background": "light"
     },
     "output_type": "display_data"
    }
   ],
   "source": [
    "# Figure size\n",
    "plt.figure(figsize=(15, 25))\n",
    "\n",
    "# Create a 4x2 grid of subplots\n",
    "grid_rows = 4\n",
    "grid_cols = 2\n",
    "num_plots = grid_rows * grid_cols\n",
    "\n",
    "# Subplot 1\n",
    "plt.subplot(grid_rows, grid_cols, 1)\n",
    "sns.countplot(x='Gender', data=grouped_data, hue='Is_Active', palette='mako')\n",
    "\n",
    "# Subplot 2\n",
    "plt.subplot(grid_rows, grid_cols, 2)\n",
    "sub_grade = sorted(grouped_data.City.unique().tolist())\n",
    "g = sns.countplot(x='City', data=grouped_data, hue='Is_Active', palette='mako')\n",
    "g.set_xticklabels(g.get_xticklabels(), rotation=90)\n",
    "\n",
    "# Subplot 3\n",
    "plt.subplot(grid_rows, grid_cols, 3)\n",
    "sns.countplot(x='Education_Level', data=grouped_data, hue='Is_Active', palette='mako')\n",
    "\n",
    "# Subplot 4\n",
    "plt.subplot(grid_rows, grid_cols, 4)\n",
    "sns.countplot(x='Grade', data=grouped_data, hue='Is_Active', palette='mako')\n",
    "\n",
    "# Subplot 5\n",
    "plt.subplot(grid_rows, grid_cols, 5)\n",
    "sns.countplot(x='Joining Designation', data=grouped_data, hue='Is_Active', palette='mako')\n",
    "\n",
    "# Subplot 6\n",
    "plt.subplot(grid_rows, grid_cols, 6)\n",
    "g = sns.countplot(x='Quarterly Rating', data=grouped_data, hue='Is_Active', palette='mako')\n",
    "\n",
    "# Subplot 7\n",
    "plt.subplot(grid_rows, grid_cols, 7)\n",
    "g = sns.countplot(x='Rating_Increased', data=grouped_data, hue='Is_Active', palette='mako')\n",
    "\n",
    "# Subplot 8\n",
    "plt.subplot(grid_rows, grid_cols, 8)\n",
    "g = sns.countplot(x='Income_Increased', data=grouped_data, hue='Is_Active', palette='mako')\n",
    "\n",
    "# Adjust spacing between subplots\n",
    "plt.tight_layout()\n",
    "\n",
    "# Display the plots\n",
    "plt.show()"
   ]
  },
  {
   "cell_type": "markdown",
   "metadata": {},
   "source": [
    "### Observation"
   ]
  },
  {
   "cell_type": "markdown",
   "metadata": {},
   "source": [
    "- As a grade of a driver increases the income of the driver also increases.\n",
    "- Drivers with joining designations 1 and 2 are more likely to stay inactive.\n",
    "- Average income is higher for the drivers who are currently active compared to those not active.\n",
    "- Drivers with a quaterly rating 1 are most likely to be inactive."
   ]
  },
  {
   "cell_type": "markdown",
   "metadata": {},
   "source": [
    "### One-hot Encoding"
   ]
  },
  {
   "cell_type": "code",
   "execution_count": 31,
   "metadata": {},
   "outputs": [
    {
     "name": "stdout",
     "output_type": "stream",
     "text": [
      "<class 'pandas.core.frame.DataFrame'>\n",
      "Int64Index: 2292 entries, 0 to 2380\n",
      "Data columns (total 13 columns):\n",
      " #   Column                Non-Null Count  Dtype  \n",
      "---  ------                --------------  -----  \n",
      " 0   Driver_ID             2292 non-null   int64  \n",
      " 1   Age                   2292 non-null   float64\n",
      " 2   Gender                2292 non-null   object \n",
      " 3   City                  2292 non-null   object \n",
      " 4   Education_Level       2292 non-null   int64  \n",
      " 5   Income                2292 non-null   float64\n",
      " 6   Joining Designation   2292 non-null   int64  \n",
      " 7   Grade                 2292 non-null   int64  \n",
      " 8   Total Business Value  2292 non-null   int64  \n",
      " 9   Quarterly Rating      2292 non-null   int64  \n",
      " 10  Rating_Increased      2292 non-null   int32  \n",
      " 11  Income_Increased      2292 non-null   int32  \n",
      " 12  Is_Active             2292 non-null   int32  \n",
      "dtypes: float64(2), int32(3), int64(6), object(2)\n",
      "memory usage: 288.4+ KB\n"
     ]
    }
   ],
   "source": [
    "# Convert categorical variable to numerical\n",
    "grouped_data.info()"
   ]
  },
  {
   "cell_type": "code",
   "execution_count": 32,
   "metadata": {},
   "outputs": [],
   "source": [
    "# Perform one-hot encoding for 'Gender' and 'City'\n",
    "grouped_data = pd.get_dummies(grouped_data, columns=['Gender', 'City'], drop_first=True)"
   ]
  },
  {
   "cell_type": "markdown",
   "metadata": {},
   "source": [
    "### Building a bagging model"
   ]
  },
  {
   "cell_type": "code",
   "execution_count": 33,
   "metadata": {},
   "outputs": [],
   "source": [
    "# Separate the features (X) and the target variable (y)\n",
    "\n",
    "X = grouped_data.drop(\"Is_Active\", axis=1) # Assuming other columns are features\n",
    "y = grouped_data[\"Is_Active\"]"
   ]
  },
  {
   "cell_type": "code",
   "execution_count": 34,
   "metadata": {
    "scrolled": false
   },
   "outputs": [
    {
     "data": {
      "text/html": [
       "<div>\n",
       "<style scoped>\n",
       "    .dataframe tbody tr th:only-of-type {\n",
       "        vertical-align: middle;\n",
       "    }\n",
       "\n",
       "    .dataframe tbody tr th {\n",
       "        vertical-align: top;\n",
       "    }\n",
       "\n",
       "    .dataframe thead th {\n",
       "        text-align: right;\n",
       "    }\n",
       "</style>\n",
       "<table border=\"1\" class=\"dataframe\">\n",
       "  <thead>\n",
       "    <tr style=\"text-align: right;\">\n",
       "      <th></th>\n",
       "      <th>Driver_ID</th>\n",
       "      <th>Age</th>\n",
       "      <th>Education_Level</th>\n",
       "      <th>Income</th>\n",
       "      <th>Joining Designation</th>\n",
       "      <th>Grade</th>\n",
       "      <th>Total Business Value</th>\n",
       "      <th>Quarterly Rating</th>\n",
       "      <th>Rating_Increased</th>\n",
       "      <th>Income_Increased</th>\n",
       "      <th>...</th>\n",
       "      <th>City_C27</th>\n",
       "      <th>City_C28</th>\n",
       "      <th>City_C29</th>\n",
       "      <th>City_C3</th>\n",
       "      <th>City_C4</th>\n",
       "      <th>City_C5</th>\n",
       "      <th>City_C6</th>\n",
       "      <th>City_C7</th>\n",
       "      <th>City_C8</th>\n",
       "      <th>City_C9</th>\n",
       "    </tr>\n",
       "  </thead>\n",
       "  <tbody>\n",
       "    <tr>\n",
       "      <th>0</th>\n",
       "      <td>1</td>\n",
       "      <td>28.000000</td>\n",
       "      <td>2</td>\n",
       "      <td>57387.0</td>\n",
       "      <td>1</td>\n",
       "      <td>1</td>\n",
       "      <td>1715580</td>\n",
       "      <td>2</td>\n",
       "      <td>0</td>\n",
       "      <td>0</td>\n",
       "      <td>...</td>\n",
       "      <td>0</td>\n",
       "      <td>0</td>\n",
       "      <td>0</td>\n",
       "      <td>0</td>\n",
       "      <td>0</td>\n",
       "      <td>0</td>\n",
       "      <td>0</td>\n",
       "      <td>0</td>\n",
       "      <td>0</td>\n",
       "      <td>0</td>\n",
       "    </tr>\n",
       "    <tr>\n",
       "      <th>1</th>\n",
       "      <td>2</td>\n",
       "      <td>31.000000</td>\n",
       "      <td>2</td>\n",
       "      <td>67016.0</td>\n",
       "      <td>2</td>\n",
       "      <td>2</td>\n",
       "      <td>0</td>\n",
       "      <td>1</td>\n",
       "      <td>0</td>\n",
       "      <td>0</td>\n",
       "      <td>...</td>\n",
       "      <td>0</td>\n",
       "      <td>0</td>\n",
       "      <td>0</td>\n",
       "      <td>0</td>\n",
       "      <td>0</td>\n",
       "      <td>0</td>\n",
       "      <td>0</td>\n",
       "      <td>1</td>\n",
       "      <td>0</td>\n",
       "      <td>0</td>\n",
       "    </tr>\n",
       "    <tr>\n",
       "      <th>2</th>\n",
       "      <td>4</td>\n",
       "      <td>43.000000</td>\n",
       "      <td>2</td>\n",
       "      <td>65603.0</td>\n",
       "      <td>2</td>\n",
       "      <td>2</td>\n",
       "      <td>350000</td>\n",
       "      <td>1</td>\n",
       "      <td>0</td>\n",
       "      <td>0</td>\n",
       "      <td>...</td>\n",
       "      <td>0</td>\n",
       "      <td>0</td>\n",
       "      <td>0</td>\n",
       "      <td>0</td>\n",
       "      <td>0</td>\n",
       "      <td>0</td>\n",
       "      <td>0</td>\n",
       "      <td>0</td>\n",
       "      <td>0</td>\n",
       "      <td>0</td>\n",
       "    </tr>\n",
       "    <tr>\n",
       "      <th>3</th>\n",
       "      <td>5</td>\n",
       "      <td>29.000000</td>\n",
       "      <td>0</td>\n",
       "      <td>46368.0</td>\n",
       "      <td>1</td>\n",
       "      <td>1</td>\n",
       "      <td>120360</td>\n",
       "      <td>1</td>\n",
       "      <td>0</td>\n",
       "      <td>0</td>\n",
       "      <td>...</td>\n",
       "      <td>0</td>\n",
       "      <td>0</td>\n",
       "      <td>0</td>\n",
       "      <td>0</td>\n",
       "      <td>0</td>\n",
       "      <td>0</td>\n",
       "      <td>0</td>\n",
       "      <td>0</td>\n",
       "      <td>0</td>\n",
       "      <td>1</td>\n",
       "    </tr>\n",
       "    <tr>\n",
       "      <th>4</th>\n",
       "      <td>6</td>\n",
       "      <td>31.000000</td>\n",
       "      <td>1</td>\n",
       "      <td>78728.0</td>\n",
       "      <td>3</td>\n",
       "      <td>3</td>\n",
       "      <td>1265000</td>\n",
       "      <td>2</td>\n",
       "      <td>1</td>\n",
       "      <td>0</td>\n",
       "      <td>...</td>\n",
       "      <td>0</td>\n",
       "      <td>0</td>\n",
       "      <td>0</td>\n",
       "      <td>0</td>\n",
       "      <td>0</td>\n",
       "      <td>0</td>\n",
       "      <td>0</td>\n",
       "      <td>0</td>\n",
       "      <td>0</td>\n",
       "      <td>0</td>\n",
       "    </tr>\n",
       "    <tr>\n",
       "      <th>...</th>\n",
       "      <td>...</td>\n",
       "      <td>...</td>\n",
       "      <td>...</td>\n",
       "      <td>...</td>\n",
       "      <td>...</td>\n",
       "      <td>...</td>\n",
       "      <td>...</td>\n",
       "      <td>...</td>\n",
       "      <td>...</td>\n",
       "      <td>...</td>\n",
       "      <td>...</td>\n",
       "      <td>...</td>\n",
       "      <td>...</td>\n",
       "      <td>...</td>\n",
       "      <td>...</td>\n",
       "      <td>...</td>\n",
       "      <td>...</td>\n",
       "      <td>...</td>\n",
       "      <td>...</td>\n",
       "      <td>...</td>\n",
       "      <td>...</td>\n",
       "    </tr>\n",
       "    <tr>\n",
       "      <th>2376</th>\n",
       "      <td>2784</td>\n",
       "      <td>33.500000</td>\n",
       "      <td>0</td>\n",
       "      <td>82815.0</td>\n",
       "      <td>2</td>\n",
       "      <td>3</td>\n",
       "      <td>21748820</td>\n",
       "      <td>3</td>\n",
       "      <td>1</td>\n",
       "      <td>0</td>\n",
       "      <td>...</td>\n",
       "      <td>0</td>\n",
       "      <td>0</td>\n",
       "      <td>0</td>\n",
       "      <td>0</td>\n",
       "      <td>0</td>\n",
       "      <td>0</td>\n",
       "      <td>0</td>\n",
       "      <td>0</td>\n",
       "      <td>0</td>\n",
       "      <td>0</td>\n",
       "    </tr>\n",
       "    <tr>\n",
       "      <th>2377</th>\n",
       "      <td>2785</td>\n",
       "      <td>34.000000</td>\n",
       "      <td>0</td>\n",
       "      <td>12105.0</td>\n",
       "      <td>1</td>\n",
       "      <td>1</td>\n",
       "      <td>0</td>\n",
       "      <td>1</td>\n",
       "      <td>0</td>\n",
       "      <td>0</td>\n",
       "      <td>...</td>\n",
       "      <td>0</td>\n",
       "      <td>0</td>\n",
       "      <td>0</td>\n",
       "      <td>0</td>\n",
       "      <td>0</td>\n",
       "      <td>0</td>\n",
       "      <td>0</td>\n",
       "      <td>0</td>\n",
       "      <td>0</td>\n",
       "      <td>1</td>\n",
       "    </tr>\n",
       "    <tr>\n",
       "      <th>2378</th>\n",
       "      <td>2786</td>\n",
       "      <td>44.888889</td>\n",
       "      <td>0</td>\n",
       "      <td>35370.0</td>\n",
       "      <td>2</td>\n",
       "      <td>2</td>\n",
       "      <td>2815090</td>\n",
       "      <td>2</td>\n",
       "      <td>0</td>\n",
       "      <td>0</td>\n",
       "      <td>...</td>\n",
       "      <td>0</td>\n",
       "      <td>0</td>\n",
       "      <td>0</td>\n",
       "      <td>0</td>\n",
       "      <td>0</td>\n",
       "      <td>0</td>\n",
       "      <td>0</td>\n",
       "      <td>0</td>\n",
       "      <td>0</td>\n",
       "      <td>0</td>\n",
       "    </tr>\n",
       "    <tr>\n",
       "      <th>2379</th>\n",
       "      <td>2787</td>\n",
       "      <td>28.000000</td>\n",
       "      <td>2</td>\n",
       "      <td>69498.0</td>\n",
       "      <td>1</td>\n",
       "      <td>1</td>\n",
       "      <td>977830</td>\n",
       "      <td>1</td>\n",
       "      <td>0</td>\n",
       "      <td>0</td>\n",
       "      <td>...</td>\n",
       "      <td>0</td>\n",
       "      <td>0</td>\n",
       "      <td>0</td>\n",
       "      <td>0</td>\n",
       "      <td>0</td>\n",
       "      <td>0</td>\n",
       "      <td>0</td>\n",
       "      <td>0</td>\n",
       "      <td>0</td>\n",
       "      <td>0</td>\n",
       "    </tr>\n",
       "    <tr>\n",
       "      <th>2380</th>\n",
       "      <td>2788</td>\n",
       "      <td>29.857143</td>\n",
       "      <td>2</td>\n",
       "      <td>70254.0</td>\n",
       "      <td>2</td>\n",
       "      <td>2</td>\n",
       "      <td>2298240</td>\n",
       "      <td>2</td>\n",
       "      <td>1</td>\n",
       "      <td>0</td>\n",
       "      <td>...</td>\n",
       "      <td>1</td>\n",
       "      <td>0</td>\n",
       "      <td>0</td>\n",
       "      <td>0</td>\n",
       "      <td>0</td>\n",
       "      <td>0</td>\n",
       "      <td>0</td>\n",
       "      <td>0</td>\n",
       "      <td>0</td>\n",
       "      <td>0</td>\n",
       "    </tr>\n",
       "  </tbody>\n",
       "</table>\n",
       "<p>2292 rows × 40 columns</p>\n",
       "</div>"
      ],
      "text/plain": [
       "      Driver_ID        Age  Education_Level   Income  Joining Designation  \\\n",
       "0             1  28.000000                2  57387.0                    1   \n",
       "1             2  31.000000                2  67016.0                    2   \n",
       "2             4  43.000000                2  65603.0                    2   \n",
       "3             5  29.000000                0  46368.0                    1   \n",
       "4             6  31.000000                1  78728.0                    3   \n",
       "...         ...        ...              ...      ...                  ...   \n",
       "2376       2784  33.500000                0  82815.0                    2   \n",
       "2377       2785  34.000000                0  12105.0                    1   \n",
       "2378       2786  44.888889                0  35370.0                    2   \n",
       "2379       2787  28.000000                2  69498.0                    1   \n",
       "2380       2788  29.857143                2  70254.0                    2   \n",
       "\n",
       "      Grade  Total Business Value  Quarterly Rating  Rating_Increased  \\\n",
       "0         1               1715580                 2                 0   \n",
       "1         2                     0                 1                 0   \n",
       "2         2                350000                 1                 0   \n",
       "3         1                120360                 1                 0   \n",
       "4         3               1265000                 2                 1   \n",
       "...     ...                   ...               ...               ...   \n",
       "2376      3              21748820                 3                 1   \n",
       "2377      1                     0                 1                 0   \n",
       "2378      2               2815090                 2                 0   \n",
       "2379      1                977830                 1                 0   \n",
       "2380      2               2298240                 2                 1   \n",
       "\n",
       "      Income_Increased  ...  City_C27  City_C28  City_C29  City_C3  City_C4  \\\n",
       "0                    0  ...         0         0         0        0        0   \n",
       "1                    0  ...         0         0         0        0        0   \n",
       "2                    0  ...         0         0         0        0        0   \n",
       "3                    0  ...         0         0         0        0        0   \n",
       "4                    0  ...         0         0         0        0        0   \n",
       "...                ...  ...       ...       ...       ...      ...      ...   \n",
       "2376                 0  ...         0         0         0        0        0   \n",
       "2377                 0  ...         0         0         0        0        0   \n",
       "2378                 0  ...         0         0         0        0        0   \n",
       "2379                 0  ...         0         0         0        0        0   \n",
       "2380                 0  ...         1         0         0        0        0   \n",
       "\n",
       "      City_C5  City_C6  City_C7  City_C8  City_C9  \n",
       "0           0        0        0        0        0  \n",
       "1           0        0        1        0        0  \n",
       "2           0        0        0        0        0  \n",
       "3           0        0        0        0        1  \n",
       "4           0        0        0        0        0  \n",
       "...       ...      ...      ...      ...      ...  \n",
       "2376        0        0        0        0        0  \n",
       "2377        0        0        0        0        1  \n",
       "2378        0        0        0        0        0  \n",
       "2379        0        0        0        0        0  \n",
       "2380        0        0        0        0        0  \n",
       "\n",
       "[2292 rows x 40 columns]"
      ]
     },
     "execution_count": 34,
     "metadata": {},
     "output_type": "execute_result"
    }
   ],
   "source": [
    "X"
   ]
  },
  {
   "cell_type": "code",
   "execution_count": 35,
   "metadata": {},
   "outputs": [
    {
     "data": {
      "text/plain": [
       "array([[-1.7352679 , -0.91173217,  1.21122743, ..., -0.18137724,\n",
       "        -0.19624938, -0.18137724],\n",
       "       [-1.73402637, -0.38068752,  1.21122743, ...,  5.51337104,\n",
       "        -0.19624938, -0.18137724],\n",
       "       [-1.73154329,  1.74349106,  1.21122743, ..., -0.18137724,\n",
       "        -0.19624938, -0.18137724],\n",
       "       ...,\n",
       "       [ 1.72241593,  2.0778525 , -1.23686188, ..., -0.18137724,\n",
       "        -0.19624938, -0.18137724],\n",
       "       [ 1.72365746, -0.91173217,  1.21122743, ..., -0.18137724,\n",
       "        -0.19624938, -0.18137724],\n",
       "       [ 1.724899  , -0.58299025,  1.21122743, ..., -0.18137724,\n",
       "        -0.19624938, -0.18137724]])"
      ]
     },
     "execution_count": 35,
     "metadata": {},
     "output_type": "execute_result"
    }
   ],
   "source": [
    "# Scale the features using StandardScaler\n",
    "from sklearn.preprocessing import StandardScaler\n",
    "\n",
    "scaler = StandardScaler()\n",
    "X_scaled = scaler.fit_transform(X)\n",
    "X_scaled"
   ]
  },
  {
   "cell_type": "code",
   "execution_count": 36,
   "metadata": {},
   "outputs": [],
   "source": [
    "# Split the dataset into training and testing sets\n",
    "from sklearn.model_selection import train_test_split\n",
    "\n",
    "X_train, X_test, y_train, y_test = train_test_split(X_scaled, y, test_size=0.2, random_state=42)"
   ]
  },
  {
   "cell_type": "code",
   "execution_count": 37,
   "metadata": {},
   "outputs": [
    {
     "name": "stdout",
     "output_type": "stream",
     "text": [
      "(1833, 40)\n",
      "(459, 40)\n",
      "(1833,)\n",
      "(459,)\n"
     ]
    }
   ],
   "source": [
    "print(X_train.shape)\n",
    "print(X_test.shape)\n",
    "print(y_train.shape)\n",
    "print(y_test.shape)"
   ]
  },
  {
   "cell_type": "code",
   "execution_count": 38,
   "metadata": {},
   "outputs": [
    {
     "name": "stdout",
     "output_type": "stream",
     "text": [
      "Class Distribution in y_train:\n",
      "1    1756\n",
      "0      77\n",
      "Name: Is_Active, dtype: int64\n",
      "\n",
      "Class Distribution in y_test:\n",
      "1    435\n",
      "0     24\n",
      "Name: Is_Active, dtype: int64\n"
     ]
    }
   ],
   "source": [
    "print(\"Class Distribution in y_train:\")\n",
    "print(y_train.value_counts())\n",
    "\n",
    "print(\"\\nClass Distribution in y_test:\")\n",
    "print(y_test.value_counts())"
   ]
  },
  {
   "cell_type": "code",
   "execution_count": 39,
   "metadata": {},
   "outputs": [],
   "source": [
    "# Apply SMOTE to the training set only (avoiding data leakage)\n",
    "from imblearn.over_sampling import SMOTE\n",
    "\n",
    "smote = SMOTE(random_state=42)\n",
    "X_train_resampled, y_train_resampled = smote.fit_resample(X_train, y_train)"
   ]
  },
  {
   "cell_type": "code",
   "execution_count": 40,
   "metadata": {},
   "outputs": [
    {
     "name": "stdout",
     "output_type": "stream",
     "text": [
      "Class Distribution in y_train:\n",
      "1    1756\n",
      "0    1756\n",
      "Name: Is_Active, dtype: int64\n"
     ]
    }
   ],
   "source": [
    "print(\"Class Distribution in y_train:\")\n",
    "print(y_train_resampled.value_counts())"
   ]
  },
  {
   "cell_type": "code",
   "execution_count": 41,
   "metadata": {},
   "outputs": [],
   "source": [
    "# Use the class_weight parameter in the model\n",
    "from sklearn.ensemble import RandomForestClassifier\n",
    "from sklearn.model_selection import GridSearchCV\n",
    "\n",
    "bagging_model = RandomForestClassifier(random_state=42)"
   ]
  },
  {
   "cell_type": "code",
   "execution_count": 42,
   "metadata": {},
   "outputs": [],
   "source": [
    "# Define the hyperparameter grid for tuning\n",
    "param_grid = {\n",
    "    'n_estimators': [50, 100, 150],\n",
    "    'max_depth': [5, 10, 15],\n",
    "    'min_samples_split': [2, 5, 10],\n",
    "    'min_samples_leaf': [1, 2, 5],\n",
    "    'max_features': [0.5, 'sqrt', 'log2']\n",
    "}"
   ]
  },
  {
   "cell_type": "code",
   "execution_count": 43,
   "metadata": {},
   "outputs": [],
   "source": [
    "# Create the GridSearchCV object with the classifier and hyperparameter grid\n",
    "grid_search = GridSearchCV(estimator=bagging_model, param_grid=param_grid, cv=5, scoring='f1', n_jobs=-1)"
   ]
  },
  {
   "cell_type": "code",
   "execution_count": 44,
   "metadata": {},
   "outputs": [
    {
     "data": {
      "text/plain": [
       "GridSearchCV(cv=5, estimator=RandomForestClassifier(random_state=42), n_jobs=-1,\n",
       "             param_grid={'max_depth': [5, 10, 15],\n",
       "                         'max_features': [0.5, 'sqrt', 'log2'],\n",
       "                         'min_samples_leaf': [1, 2, 5],\n",
       "                         'min_samples_split': [2, 5, 10],\n",
       "                         'n_estimators': [50, 100, 150]},\n",
       "             scoring='f1')"
      ]
     },
     "execution_count": 44,
     "metadata": {},
     "output_type": "execute_result"
    }
   ],
   "source": [
    "# Train the model on the resampled training set\n",
    "grid_search.fit(X_train_resampled, y_train_resampled)"
   ]
  },
  {
   "cell_type": "code",
   "execution_count": 45,
   "metadata": {},
   "outputs": [],
   "source": [
    "# Get the best hyperparameters and the best model from the GridSearchCV\n",
    "best_params = grid_search.best_params_\n",
    "best_rf_model = grid_search.best_estimator_"
   ]
  },
  {
   "cell_type": "code",
   "execution_count": 46,
   "metadata": {},
   "outputs": [],
   "source": [
    "# Predict on the testing set\n",
    "y_pred_bagging = best_rf_model.predict(X_test)"
   ]
  },
  {
   "cell_type": "code",
   "execution_count": 47,
   "metadata": {},
   "outputs": [
    {
     "name": "stdout",
     "output_type": "stream",
     "text": [
      "Results for Bagging (Random Forest):\n",
      "ROC AUC Score: 0.6274425287356322\n",
      "Classification Report:\n",
      "              precision    recall  f1-score   support\n",
      "\n",
      "           0       0.30      0.29      0.30        24\n",
      "           1       0.96      0.96      0.96       435\n",
      "\n",
      "    accuracy                           0.93       459\n",
      "   macro avg       0.63      0.63      0.63       459\n",
      "weighted avg       0.93      0.93      0.93       459\n",
      "\n"
     ]
    }
   ],
   "source": [
    "# Evaluate the models\n",
    "from sklearn.metrics import roc_auc_score, classification_report\n",
    "\n",
    "roc_auc_bagging = roc_auc_score(y_test, y_pred_bagging)\n",
    "classification_report_bagging = classification_report(y_test, y_pred_bagging)\n",
    "\n",
    "print(\"Results for Bagging (Random Forest):\")\n",
    "print(f'ROC AUC Score: {roc_auc_bagging}')\n",
    "print(f'Classification Report:\\n{classification_report_bagging}')"
   ]
  },
  {
   "cell_type": "code",
   "execution_count": 48,
   "metadata": {},
   "outputs": [
    {
     "data": {
      "text/plain": [
       "array([[  7,  17],\n",
       "       [ 16, 419]], dtype=int64)"
      ]
     },
     "execution_count": 48,
     "metadata": {},
     "output_type": "execute_result"
    }
   ],
   "source": [
    "#Creating the Confusion matrix  \n",
    "from sklearn.metrics import confusion_matrix  \n",
    "cm = confusion_matrix(y_test, y_pred_bagging)\n",
    "cm"
   ]
  },
  {
   "cell_type": "code",
   "execution_count": 49,
   "metadata": {},
   "outputs": [
    {
     "data": {
      "image/png": "[encoded data removed]",
      "text/plain": [
       "<Figure size 576x432 with 1 Axes>"
      ]
     },
     "metadata": {
      "needs_background": "light"
     },
     "output_type": "display_data"
    }
   ],
   "source": [
    "from sklearn.metrics import roc_curve\n",
    "\n",
    "# Get predicted probabilities for class 1 (positive class)\n",
    "y_pred_proba_bagging = best_rf_model.predict_proba(X_test)[:, 1]\n",
    "\n",
    "# Calculate the ROC curve\n",
    "fpr_bagging, tpr_bagging, thresholds_bagging = roc_curve(y_test, y_pred_proba_bagging)\n",
    "\n",
    "# Calculate the ROC AUC score\n",
    "roc_auc_bagging = roc_auc_score(y_test, y_pred_proba_bagging)\n",
    "\n",
    "# Plot the ROC curve\n",
    "plt.figure(figsize=(8, 6))\n",
    "plt.plot(fpr_bagging, tpr_bagging, color='blue', lw=2, label='Bagging (Random Forest) (AUC = {:.2f})'.format(roc_auc_bagging))\n",
    "plt.plot([0, 1], [0, 1], color='gray', linestyle='--')\n",
    "plt.xlim([0.0, 1.0])\n",
    "plt.ylim([0.0, 1.05])\n",
    "plt.xlabel('False Positive Rate')\n",
    "plt.ylabel('True Positive Rate')\n",
    "plt.title('ROC Curve')\n",
    "plt.legend(loc='upper right')\n",
    "plt.grid(True)\n",
    "plt.show()\n"
   ]
  },
  {
   "cell_type": "code",
   "execution_count": 50,
   "metadata": {},
   "outputs": [
    {
     "data": {
      "image/png": "[encoded data removed]",
      "text/plain": [
       "<Figure size 576x432 with 1 Axes>"
      ]
     },
     "metadata": {
      "needs_background": "light"
     },
     "output_type": "display_data"
    }
   ],
   "source": [
    "from sklearn.metrics import precision_recall_curve, average_precision_score\n",
    "\n",
    "# Calculate the precision-recall curve\n",
    "precision, recall, thresholds = precision_recall_curve(y_test, y_pred_proba_bagging)\n",
    "\n",
    "# Calculate the average precision score\n",
    "avg_precision = average_precision_score(y_test, y_pred_proba_bagging)\n",
    "\n",
    "# Plot the precision-recall curve\n",
    "plt.figure(figsize=(8, 6))\n",
    "plt.plot(recall, precision, color='blue', lw=2, label='Bagging (RandomForest) (Avg Precision = {:.2f})'.format(avg_precision))\n",
    "plt.xlabel('Recall')\n",
    "plt.ylabel('Precision')\n",
    "plt.title('Precision-Recall Curve')\n",
    "plt.legend(loc='upper right')\n",
    "plt.grid(True)\n",
    "plt.show()"
   ]
  },
  {
   "cell_type": "markdown",
   "metadata": {},
   "source": [
    "### Observation"
   ]
  },
  {
   "cell_type": "markdown",
   "metadata": {},
   "source": [
    "- The overall accuracy of the model is 0.93, which measures the percentage of correctly predicted instances among all the instances. However, considering the class imbalance, accuracy alone may not be the most informative metric.\n",
    "\n",
    "- The weighted average F1-score is 0.93, which takes into account both class frequencies and performance. It gives more weight to the F1-scores of each class, providing a balanced evaluation of the model's overall performance."
   ]
  },
  {
   "cell_type": "markdown",
   "metadata": {},
   "source": [
    "### Boosting model"
   ]
  },
  {
   "cell_type": "code",
   "execution_count": 51,
   "metadata": {},
   "outputs": [],
   "source": [
    "# Use the class_weight parameter in the model\n",
    "from sklearn.ensemble import GradientBoostingClassifier\n",
    "\n",
    "boosting_model = GradientBoostingClassifier(random_state=42)"
   ]
  },
  {
   "cell_type": "code",
   "execution_count": 52,
   "metadata": {},
   "outputs": [],
   "source": [
    "# Define the hyperparameter grid for tuning\n",
    "param_grid = {\n",
    "    'n_estimators': [50, 100, 150],\n",
    "    'learning_rate': [0.01, 0.1, 0.2],\n",
    "    'max_depth': [3, 5, 7],\n",
    "    'min_samples_split': [2, 5, 10],\n",
    "    'min_samples_leaf': [1, 2, 5],\n",
    "    'subsample': [0.8, 1.0]\n",
    "}"
   ]
  },
  {
   "cell_type": "code",
   "execution_count": 53,
   "metadata": {},
   "outputs": [],
   "source": [
    "# Create the GridSearchCV object with the classifier and hyperparameter grid\n",
    "grid_search_boost = GridSearchCV(estimator=boosting_model, param_grid=param_grid, cv=5, scoring='f1', n_jobs=-1)"
   ]
  },
  {
   "cell_type": "code",
   "execution_count": 61,
   "metadata": {},
   "outputs": [
    {
     "data": {
      "text/plain": [
       "GridSearchCV(cv=5, estimator=GradientBoostingClassifier(random_state=42),\n",
       "             n_jobs=-1,\n",
       "             param_grid={'learning_rate': [0.01, 0.1, 0.2],\n",
       "                         'max_depth': [3, 5, 7], 'min_samples_leaf': [1, 2, 5],\n",
       "                         'min_samples_split': [2, 5, 10],\n",
       "                         'n_estimators': [50, 100, 150],\n",
       "                         'subsample': [0.8, 1.0]},\n",
       "             scoring='f1')"
      ]
     },
     "execution_count": 61,
     "metadata": {},
     "output_type": "execute_result"
    }
   ],
   "source": [
    "# Train the model on the resampled training set\n",
    "grid_search_boost.fit(X_train_resampled, y_train_resampled)"
   ]
  },
  {
   "cell_type": "code",
   "execution_count": 62,
   "metadata": {},
   "outputs": [],
   "source": [
    "# Get the best hyperparameters and the best model from the GridSearchCV\n",
    "best_params = grid_search_boost.best_params_\n",
    "best_gb_model = grid_search_boost.best_estimator_"
   ]
  },
  {
   "cell_type": "code",
   "execution_count": 63,
   "metadata": {},
   "outputs": [],
   "source": [
    "# Predict on the testing set\n",
    "y_pred_boosting = best_gb_model.predict(X_test)"
   ]
  },
  {
   "cell_type": "code",
   "execution_count": 64,
   "metadata": {},
   "outputs": [
    {
     "name": "stdout",
     "output_type": "stream",
     "text": [
      "Results for Boosting (GradientBoosting):\n",
      "ROC AUC Score: 0.5729885057471265\n",
      "Classification Report:\n",
      "              precision    recall  f1-score   support\n",
      "\n",
      "           0       0.31      0.17      0.22        24\n",
      "           1       0.96      0.98      0.97       435\n",
      "\n",
      "    accuracy                           0.94       459\n",
      "   macro avg       0.63      0.57      0.59       459\n",
      "weighted avg       0.92      0.94      0.93       459\n",
      "\n"
     ]
    }
   ],
   "source": [
    "# Evaluate the models\n",
    "from sklearn.metrics import roc_auc_score, classification_report\n",
    "\n",
    "roc_auc_boosting = roc_auc_score(y_test, y_pred_boosting)\n",
    "classification_report_boosting = classification_report(y_test, y_pred_boosting)\n",
    "\n",
    "print(\"Results for Boosting (GradientBoosting):\")\n",
    "print(f'ROC AUC Score: {roc_auc_boosting}')\n",
    "print(f'Classification Report:\\n{classification_report_boosting}')"
   ]
  },
  {
   "cell_type": "code",
   "execution_count": 65,
   "metadata": {},
   "outputs": [
    {
     "data": {
      "text/plain": [
       "array([[  4,  20],\n",
       "       [  9, 426]], dtype=int64)"
      ]
     },
     "execution_count": 65,
     "metadata": {},
     "output_type": "execute_result"
    }
   ],
   "source": [
    "#Creating the Confusion matrix  \n",
    "from sklearn.metrics import confusion_matrix  \n",
    "cm = confusion_matrix(y_test, y_pred_boosting)\n",
    "cm"
   ]
  },
  {
   "cell_type": "code",
   "execution_count": 66,
   "metadata": {},
   "outputs": [
    {
     "data": {
      "image/png": "[encoded data removed]",
      "text/plain": [
       "<Figure size 576x432 with 1 Axes>"
      ]
     },
     "metadata": {
      "needs_background": "light"
     },
     "output_type": "display_data"
    }
   ],
   "source": [
    "# Get predicted probabilities for class 1 (positive class)\n",
    "y_pred_proba_boosting = best_gb_model.predict_proba(X_test)[:, 1]\n",
    "\n",
    "# Calculate the ROC curve\n",
    "fpr_boosting, tpr_boosting, thresholds_boosting = roc_curve(y_test, y_pred_proba_boosting)\n",
    "\n",
    "# Calculate the ROC AUC score\n",
    "roc_auc_boosting = roc_auc_score(y_test, y_pred_proba_boosting)\n",
    "\n",
    "# Plot the ROC curve\n",
    "plt.figure(figsize=(8, 6))\n",
    "plt.plot(fpr_boosting, tpr_boosting, color='blue', lw=2, label='Boosting (GradientBoosting) (AUC = {:.2f})'.format(roc_auc_boosting))\n",
    "plt.plot([0, 1], [0, 1], color='gray', linestyle='--')\n",
    "plt.xlim([0.0, 1.0])\n",
    "plt.ylim([0.0, 1.05])\n",
    "plt.xlabel('False Positive Rate')\n",
    "plt.ylabel('True Positive Rate')\n",
    "plt.title('ROC Curve')\n",
    "plt.legend(loc='upper right')\n",
    "plt.grid(True)\n",
    "plt.show()"
   ]
  },
  {
   "cell_type": "code",
   "execution_count": 67,
   "metadata": {},
   "outputs": [
    {
     "data": {
      "image/png": "[encoded data removed]",
      "text/plain": [
       "<Figure size 576x432 with 1 Axes>"
      ]
     },
     "metadata": {
      "needs_background": "light"
     },
     "output_type": "display_data"
    }
   ],
   "source": [
    "# Calculate the precision-recall curve\n",
    "precision, recall, thresholds = precision_recall_curve(y_test, y_pred_proba_boosting)\n",
    "\n",
    "# Calculate the average precision score\n",
    "avg_precision = average_precision_score(y_test, y_pred_proba_boosting)\n",
    "\n",
    "# Plot the precision-recall curve\n",
    "plt.figure(figsize=(8, 6))\n",
    "plt.plot(recall, precision, color='blue', lw=2, label='Boosting (GradientBoosting) (Avg Precision = {:.2f})'.format(avg_precision))\n",
    "plt.xlabel('Recall')\n",
    "plt.ylabel('Precision')\n",
    "plt.title('Precision-Recall Curve')\n",
    "plt.legend(loc='upper right')\n",
    "plt.grid(True)\n",
    "plt.show()"
   ]
  },
  {
   "cell_type": "markdown",
   "metadata": {},
   "source": [
    "### Observation"
   ]
  },
  {
   "cell_type": "markdown",
   "metadata": {},
   "source": [
    "- The GradientBoosting classifier has excellent performance in correctly identifying positive instances (label 1) with high precision, recall, and F1-score. However, it struggles with classifying negative instances (label 0), resulting in lower performance on the negative class.\n",
    "- The overall model performance is good based on the high accuracy 0.94 and weighted average F1-score."
   ]
  },
  {
   "cell_type": "markdown",
   "metadata": {},
   "source": [
    "### Insights from the analysis"
   ]
  },
  {
   "cell_type": "markdown",
   "metadata": {},
   "source": [
    "- The dataset contains 19,104 rows and 14 columns with missing values in 'Age' and 'Gender'.\n",
    "- The majority of employees are males (58.9%) and most are currently active (95.59%).\n",
    "- Education level 2 (33.9%) and grade 2 (37.22%) are most common among drivers.\n",
    "- Drivers with joining designation level 1 (42.76%) are the highest, followed by level 2 (34.34%).\n",
    "- Most drivers received a rating of 1 (66.88%) and a small percentage received rating 4 (2.49%).\n",
    "- The average income for drivers is approximately 65,652.\n",
    "- The model's accuracy is 0.93 and weighted average F1-score is 0.93.\n",
    "- Hyperparameter tuning was performed for Random Forest and Gradient Boosting classifiers.\n",
    "- Improvement opportunities include handling class imbalance and exploring more feature engineering."
   ]
  },
  {
   "cell_type": "markdown",
   "metadata": {},
   "source": [
    "### Recommendations for problem statement"
   ]
  },
  {
   "cell_type": "markdown",
   "metadata": {},
   "source": [
    "- Implement driver incentive programs based on performance and ratings to motivate drivers to stay with Cab Company.\n",
    "- Offer competitive rates and benefits to attract and retain drivers, making Cab Company a more attractive option compared to competitors.\n",
    "- Provide comprehensive driver training and ongoing support to enhance skills and job satisfaction.\n",
    "- Collect regular feedback from drivers and engage with them to address concerns and foster a sense of belonging.\n",
    "- Build predictive churn models to identify drivers at risk of leaving and take proactive retention actions.\n",
    "- Tailor retention strategies based on individual driver attributes and reasons for potential churn.\n",
    "- Focus on improving the overall driver experience with streamlined processes and user-friendly technology.\n",
    "- Implement loyalty programs to reward long-term drivers and foster commitment.\n",
    "- Conduct exit surveys to understand the reasons for driver departures and make targeted improvements.\n",
    "- Maintain regular communication with drivers to keep them informed and engaged with the company.\n"
   ]
  }
 ],
 "metadata": {
  "colab": {
   "authorship_tag": "ABX9TyP3pHE4Eq4z/4F7q2PRkMm5",
   "provenance": []
  },
  "kernelspec": {
   "display_name": "Python 3 (ipykernel)",
   "language": "python",
   "name": "python3"
  },
  "language_info": {
   "codemirror_mode": {
    "name": "ipython",
    "version": 3
   },
   "file_extension": ".py",
   "mimetype": "text/x-python",
   "name": "python",
   "nbconvert_exporter": "python",
   "pygments_lexer": "ipython3",
   "version": "3.9.12"
  }
 },
 "nbformat": 4,
 "nbformat_minor": 1
}
